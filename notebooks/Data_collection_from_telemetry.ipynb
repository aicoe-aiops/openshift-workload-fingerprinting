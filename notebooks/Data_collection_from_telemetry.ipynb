{
 "cells": [
  {
   "cell_type": "markdown",
   "id": "8062fb2c",
   "metadata": {
    "ExecuteTime": {
     "end_time": "2021-06-28T19:04:51.358245Z",
     "start_time": "2021-06-28T19:04:51.329041Z"
    }
   },
   "source": [
    "# Collecting the CPU usage workload data for different cluster id:"
   ]
  },
  {
   "cell_type": "markdown",
   "id": "9aee8bc6",
   "metadata": {},
   "source": [
    "# Overview"
   ]
  },
  {
   "cell_type": "markdown",
   "id": "867c6a0b",
   "metadata": {},
   "source": [
    "As a data scientist, working on a workload fingerprinting project, the workload data that we have from the insight operator archive are limited to some informations like product name, cpu usage, memory usage, etc. We have done the product name mapping in this [issue](https://github.com/aicoe-aiops/openshift-workload-fingerprinting/issues/14). \n",
    "\n",
    "The purpose of this notebook is to be able to  extract the data from the telemetry based on the `cluster_id` and `timestamp` as given in the workload data. Metric information are extracted both for `image_layers_dataset` and `container_dataset`. The different metrics are,\n",
    "\n",
    "- **workload:cpu_usage_cores:sum**\n",
    "- **workload:memory_usage_bytes:sum**\n",
    "- **openshift:cpu_usage_cores:sum**\n",
    "- **openshift:memory_usage_bytes:sum**\n",
    "- **cluster:cpu_usage_cores:sum**\n",
    "- **cluster:memory_usage_bytes:sum**\n",
    "\n"
   ]
  },
  {
   "cell_type": "markdown",
   "id": "2665f0eb",
   "metadata": {},
   "source": [
    "# Importing packages"
   ]
  },
  {
   "cell_type": "code",
   "execution_count": 1,
   "id": "25b43740",
   "metadata": {
    "ExecuteTime": {
     "end_time": "2021-07-27T02:46:12.173183Z",
     "start_time": "2021-07-27T02:46:11.602375Z"
    }
   },
   "outputs": [],
   "source": [
    "import os\n",
    "import datetime as dt\n",
    "from tqdm import tqdm\n",
    "import pandas as pd\n",
    "import io\n",
    "import boto3\n",
    "import warnings\n",
    "import urllib3\n",
    "from dotenv import load_dotenv, find_dotenv\n",
    "\n",
    "from prometheus_api_client import PrometheusConnect, MetricSnapshotDataFrame"
   ]
  },
  {
   "cell_type": "code",
   "execution_count": 2,
   "id": "ac7b211f",
   "metadata": {
    "ExecuteTime": {
     "end_time": "2021-07-27T02:46:12.176261Z",
     "start_time": "2021-07-27T02:46:12.174420Z"
    }
   },
   "outputs": [],
   "source": [
    "urllib3.disable_warnings()\n",
    "pd.set_option(\"display.max_columns\", None)"
   ]
  },
  {
   "cell_type": "code",
   "execution_count": 3,
   "id": "b247f621",
   "metadata": {
    "ExecuteTime": {
     "end_time": "2021-07-27T02:46:12.184151Z",
     "start_time": "2021-07-27T02:46:12.177430Z"
    }
   },
   "outputs": [],
   "source": [
    "%matplotlib inline\n",
    "load_dotenv(find_dotenv())\n",
    "warnings.filterwarnings(\"ignore\")"
   ]
  },
  {
   "cell_type": "markdown",
   "id": "2ddd0ce3",
   "metadata": {},
   "source": [
    "# Data Collection from bucket"
   ]
  },
  {
   "cell_type": "markdown",
   "id": "be363f02",
   "metadata": {},
   "source": [
    "Firstly, we extract the `image_layers` and `containers` dataset from the PLAYPEN bucket in order to get the list of `cluster_id` and `timestamp` from the corresponding `archive_path` given in the respective dataset."
   ]
  },
  {
   "cell_type": "code",
   "execution_count": 4,
   "id": "831f9f24",
   "metadata": {
    "ExecuteTime": {
     "end_time": "2021-07-27T02:46:12.683324Z",
     "start_time": "2021-07-27T02:46:12.185100Z"
    }
   },
   "outputs": [],
   "source": [
    "# CEPH Bucket variables\n",
    "s3_endpoint_url = os.getenv(\"S3_ENDPOINT\")\n",
    "s3_access_key = os.getenv(\"S3_ACCESS_KEY\")\n",
    "s3_secret_key = os.getenv(\"S3_SECRET_KEY\")\n",
    "s3_bucket = os.getenv(\"S3_BUCKET\")\n",
    "\n",
    "# s3 resource to communicate with storage\n",
    "s3 = boto3.resource(\n",
    "    \"s3\",\n",
    "    endpoint_url=s3_endpoint_url,\n",
    "    aws_access_key_id=s3_access_key,\n",
    "    aws_secret_access_key=s3_secret_key,\n",
    ")\n",
    "\n",
    "# access the parquet file as an s3 object\n",
    "\n",
    "obj1 = s3.Object(\n",
    "    \"DH-PLAYPEN\", \"ccx/fingerprinting/image_layers/date=2021-05-12/2021-05-12.parquet\"\n",
    ")\n",
    "obj2 = s3.Object(\n",
    "    \"DH-PLAYPEN\", \"ccx/fingerprinting/containers/date=2021-05-12/2021-05-12.parquet\"\n",
    ")\n",
    "obj3 = s3.Object(\n",
    "    \"DH-PLAYPEN\", \"ccx/fingerprinting/image_layers/dataframe_image_id.parquet\"\n",
    ")\n",
    "obj4 = s3.Object(\"DH-PLAYPEN\", \"ccx/fingerprinting/containers/df_cont_image_id.parquet\")\n",
    "# download the file into the buffer\n",
    "buffer1 = io.BytesIO()\n",
    "obj1.download_fileobj(buffer1)\n",
    "buffer2 = io.BytesIO()\n",
    "obj2.download_fileobj(buffer2)\n",
    "\n",
    "# read the buffer and create the dataframe\n",
    "image_layers_df = pd.read_parquet(buffer1)\n",
    "containers_df = pd.read_parquet(buffer2)"
   ]
  },
  {
   "cell_type": "markdown",
   "id": "9bc2d88a",
   "metadata": {},
   "source": [
    "# Connect to Prometheus"
   ]
  },
  {
   "cell_type": "markdown",
   "id": "4ef75483",
   "metadata": {},
   "source": [
    "**Connecting to Prometheus API client**\n",
    "\n",
    "We can refer to the [data hub help page](https://help.datahub.redhat.com/docs/interacting-with-telemetry-data) in order to interact with the telemetry dataset. The metrics for the credentials for the prometheus can be fetched from the [data hub help page](https://help.datahub.redhat.com/docs/interacting-with-telemetry-data). "
   ]
  },
  {
   "cell_type": "code",
   "execution_count": 5,
   "id": "2505da00",
   "metadata": {
    "ExecuteTime": {
     "end_time": "2021-07-27T02:46:12.686480Z",
     "start_time": "2021-07-27T02:46:12.684492Z"
    }
   },
   "outputs": [],
   "source": [
    "prom_url = os.getenv(\"PROM_URL\")\n",
    "prom_access_token = os.getenv(\"PROM_ACCESS_TOKEN\")\n",
    "\n",
    "PROM_URL = prom_url\n",
    "PROM_ACCESS_TOKEN = prom_access_token"
   ]
  },
  {
   "cell_type": "code",
   "execution_count": 6,
   "id": "1e358ffb",
   "metadata": {
    "ExecuteTime": {
     "end_time": "2021-07-27T02:46:12.692710Z",
     "start_time": "2021-07-27T02:46:12.687361Z"
    }
   },
   "outputs": [],
   "source": [
    "# instantiate prometheus connector\n",
    "pc = PrometheusConnect(\n",
    "    url=PROM_URL,\n",
    "    headers={\"Authorization\": f\"bearer {PROM_ACCESS_TOKEN}\"},\n",
    "    disable_ssl=True,\n",
    ")"
   ]
  },
  {
   "cell_type": "markdown",
   "id": "8e584fea",
   "metadata": {},
   "source": [
    "# Getting the data for given `timestamp` and `cluster_id` for image layer datadset"
   ]
  },
  {
   "cell_type": "markdown",
   "id": "ac4ceecd",
   "metadata": {},
   "source": [
    "We first extract the list of archive path and use the split method in order to get the information about the timestamp and cluster_id. We then use the Prometheus query in order to get the dataframe."
   ]
  },
  {
   "cell_type": "markdown",
   "id": "8c6e56ac",
   "metadata": {},
   "source": [
    "## Metric name: `workload:cpu_usage_cores:sum`"
   ]
  },
  {
   "cell_type": "code",
   "execution_count": 41,
   "id": "035e473d",
   "metadata": {
    "ExecuteTime": {
     "end_time": "2021-07-27T02:57:29.461829Z",
     "start_time": "2021-07-27T02:57:29.347927Z"
    }
   },
   "outputs": [
    {
     "name": "stderr",
     "output_type": "stream",
     "text": [
      "100%|██████████| 2802/2802 [00:43<00:00, 64.18it/s] \n"
     ]
    },
    {
     "data": {
      "text/html": [
       "<div>\n",
       "<style scoped>\n",
       "    .dataframe tbody tr th:only-of-type {\n",
       "        vertical-align: middle;\n",
       "    }\n",
       "\n",
       "    .dataframe tbody tr th {\n",
       "        vertical-align: top;\n",
       "    }\n",
       "\n",
       "    .dataframe thead th {\n",
       "        text-align: right;\n",
       "    }\n",
       "</style>\n",
       "<table border=\"1\" class=\"dataframe\">\n",
       "  <thead>\n",
       "    <tr style=\"text-align: right;\">\n",
       "      <th></th>\n",
       "      <th>__name__</th>\n",
       "      <th>_id</th>\n",
       "      <th>prometheus</th>\n",
       "      <th>receive</th>\n",
       "      <th>tenant_id</th>\n",
       "      <th>timestamp</th>\n",
       "      <th>value</th>\n",
       "    </tr>\n",
       "  </thead>\n",
       "  <tbody>\n",
       "    <tr>\n",
       "      <th>0</th>\n",
       "      <td>workload:cpu_usage_cores:sum</td>\n",
       "      <td>00003d61-9db1-4757-9cd1-84df271daeb9</td>\n",
       "      <td>openshift-monitoring/k8s</td>\n",
       "      <td>true</td>\n",
       "      <td>FB870BF3-9F3A-44FF-9BF7-D7A047A52F43</td>\n",
       "      <td>1620860062</td>\n",
       "      <td>0.03230751556666692</td>\n",
       "    </tr>\n",
       "    <tr>\n",
       "      <th>0</th>\n",
       "      <td>workload:cpu_usage_cores:sum</td>\n",
       "      <td>00351e6e-53ce-465e-9493-cf0cd2367049</td>\n",
       "      <td>openshift-monitoring/k8s</td>\n",
       "      <td>true</td>\n",
       "      <td>FB870BF3-9F3A-44FF-9BF7-D7A047A52F43</td>\n",
       "      <td>1620852056</td>\n",
       "      <td>0.030943035959259964</td>\n",
       "    </tr>\n",
       "    <tr>\n",
       "      <th>0</th>\n",
       "      <td>workload:cpu_usage_cores:sum</td>\n",
       "      <td>003ba133-e754-4d5a-bc57-675b386d1f05</td>\n",
       "      <td>openshift-monitoring/k8s</td>\n",
       "      <td>true</td>\n",
       "      <td>FB870BF3-9F3A-44FF-9BF7-D7A047A52F43</td>\n",
       "      <td>1620852942</td>\n",
       "      <td>0.23523091000370105</td>\n",
       "    </tr>\n",
       "    <tr>\n",
       "      <th>0</th>\n",
       "      <td>workload:cpu_usage_cores:sum</td>\n",
       "      <td>00479ead-b7fc-49c2-ae20-3990a9b3d08c</td>\n",
       "      <td>openshift-monitoring/k8s</td>\n",
       "      <td>true</td>\n",
       "      <td>FB870BF3-9F3A-44FF-9BF7-D7A047A52F43</td>\n",
       "      <td>1620855643</td>\n",
       "      <td>0.029065674940740756</td>\n",
       "    </tr>\n",
       "    <tr>\n",
       "      <th>0</th>\n",
       "      <td>workload:cpu_usage_cores:sum</td>\n",
       "      <td>009ef697-17c5-431e-a5f5-42d93d9c6a5a</td>\n",
       "      <td>openshift-monitoring/k8s</td>\n",
       "      <td>true</td>\n",
       "      <td>FB870BF3-9F3A-44FF-9BF7-D7A047A52F43</td>\n",
       "      <td>1620855709</td>\n",
       "      <td>0.0035705586481481486</td>\n",
       "    </tr>\n",
       "  </tbody>\n",
       "</table>\n",
       "</div>"
      ],
      "text/plain": [
       "                       __name__                                   _id  \\\n",
       "0  workload:cpu_usage_cores:sum  00003d61-9db1-4757-9cd1-84df271daeb9   \n",
       "0  workload:cpu_usage_cores:sum  00351e6e-53ce-465e-9493-cf0cd2367049   \n",
       "0  workload:cpu_usage_cores:sum  003ba133-e754-4d5a-bc57-675b386d1f05   \n",
       "0  workload:cpu_usage_cores:sum  00479ead-b7fc-49c2-ae20-3990a9b3d08c   \n",
       "0  workload:cpu_usage_cores:sum  009ef697-17c5-431e-a5f5-42d93d9c6a5a   \n",
       "\n",
       "                 prometheus receive                             tenant_id  \\\n",
       "0  openshift-monitoring/k8s    true  FB870BF3-9F3A-44FF-9BF7-D7A047A52F43   \n",
       "0  openshift-monitoring/k8s    true  FB870BF3-9F3A-44FF-9BF7-D7A047A52F43   \n",
       "0  openshift-monitoring/k8s    true  FB870BF3-9F3A-44FF-9BF7-D7A047A52F43   \n",
       "0  openshift-monitoring/k8s    true  FB870BF3-9F3A-44FF-9BF7-D7A047A52F43   \n",
       "0  openshift-monitoring/k8s    true  FB870BF3-9F3A-44FF-9BF7-D7A047A52F43   \n",
       "\n",
       "    timestamp                  value  \n",
       "0  1620860062    0.03230751556666692  \n",
       "0  1620852056   0.030943035959259964  \n",
       "0  1620852942    0.23523091000370105  \n",
       "0  1620855643   0.029065674940740756  \n",
       "0  1620855709  0.0035705586481481486  "
      ]
     },
     "execution_count": 7,
     "metadata": {},
     "output_type": "execute_result"
    }
   ],
   "source": [
    "# listing the archive path\n",
    "image_archive_path = image_layers_df.archive_path.unique()\n",
    "\n",
    "df_image_cpu = pd.DataFrame()\n",
    "\n",
    "for path in tqdm(image_archive_path[:]):\n",
    "    pos = path.split(\"/\")[-1].split(\".\")[0]\n",
    "    hours = int(pos[0:2])\n",
    "    mins = int(pos[2:4])\n",
    "    sec = int(pos[4:6])\n",
    "    cluster_pos = path.split(\"/\")[3]\n",
    "    ts = dt.datetime(\n",
    "        year=2021,\n",
    "        month=5,\n",
    "        day=12,\n",
    "        hour=hours,\n",
    "        minute=mins,\n",
    "        second=sec,\n",
    "        tzinfo=dt.timezone.utc,\n",
    "    )\n",
    "    df = MetricSnapshotDataFrame(\n",
    "        pc.custom_query(\n",
    "            f'workload:cpu_usage_cores:sum{{_id=\"{cluster_pos}\"}}',\n",
    "            params={\"time\": ts.timestamp()},\n",
    "        )\n",
    "    )\n",
    "\n",
    "    df_image_cpu = df_image_cpu.append(df)\n",
    "df_image_cpu.head()"
   ]
  },
  {
   "cell_type": "code",
   "execution_count": 8,
   "id": "f80e7020",
   "metadata": {
    "ExecuteTime": {
     "end_time": "2021-07-27T02:46:56.394546Z",
     "start_time": "2021-07-27T02:46:56.383978Z"
    }
   },
   "outputs": [
    {
     "name": "stdout",
     "output_type": "stream",
     "text": [
      "Total number of cluster_id in original image layer dataset : 2802\n",
      "Number of cluster_id for the extracted dataset : 1850\n",
      "Number of timestamps : 1791\n"
     ]
    }
   ],
   "source": [
    "print(\n",
    "    \"Total number of cluster_id in original image layer dataset :\",\n",
    "    image_layers_df.cluster_id.nunique(),\n",
    ")\n",
    "print(\"Number of cluster_id for the extracted dataset :\", df_image_cpu._id.nunique())\n",
    "print(\"Number of timestamps :\", df_image_cpu.timestamp.nunique())"
   ]
  },
  {
   "cell_type": "markdown",
   "id": "c9d97d8d",
   "metadata": {},
   "source": [
    "For the metric,`workload:cpu_usage_cores:sum`, we observe that, out of 2802 cluster_id from the image layers dataset of insight operator workload. We could only extract the information for 1850 cluster_id, i.e, ~66% cluster_id from the telemetry database. "
   ]
  },
  {
   "cell_type": "markdown",
   "id": "ae4ae86b",
   "metadata": {},
   "source": [
    "---"
   ]
  },
  {
   "cell_type": "markdown",
   "id": "13e21098",
   "metadata": {},
   "source": [
    "## Metric name: `workload:memory_usage_bytes:sum`"
   ]
  },
  {
   "cell_type": "code",
   "execution_count": 9,
   "id": "6933ada0",
   "metadata": {
    "ExecuteTime": {
     "end_time": "2021-07-27T02:48:08.841163Z",
     "start_time": "2021-07-27T02:46:56.395481Z"
    }
   },
   "outputs": [
    {
     "name": "stderr",
     "output_type": "stream",
     "text": [
      "100%|██████████| 2802/2802 [01:12<00:00, 38.68it/s]\n"
     ]
    },
    {
     "data": {
      "text/html": [
       "<div>\n",
       "<style scoped>\n",
       "    .dataframe tbody tr th:only-of-type {\n",
       "        vertical-align: middle;\n",
       "    }\n",
       "\n",
       "    .dataframe tbody tr th {\n",
       "        vertical-align: top;\n",
       "    }\n",
       "\n",
       "    .dataframe thead th {\n",
       "        text-align: right;\n",
       "    }\n",
       "</style>\n",
       "<table border=\"1\" class=\"dataframe\">\n",
       "  <thead>\n",
       "    <tr style=\"text-align: right;\">\n",
       "      <th></th>\n",
       "      <th>__name__</th>\n",
       "      <th>_id</th>\n",
       "      <th>prometheus</th>\n",
       "      <th>receive</th>\n",
       "      <th>tenant_id</th>\n",
       "      <th>timestamp</th>\n",
       "      <th>value</th>\n",
       "    </tr>\n",
       "  </thead>\n",
       "  <tbody>\n",
       "    <tr>\n",
       "      <th>0</th>\n",
       "      <td>workload:memory_usage_bytes:sum</td>\n",
       "      <td>00003d61-9db1-4757-9cd1-84df271daeb9</td>\n",
       "      <td>openshift-monitoring/k8s</td>\n",
       "      <td>true</td>\n",
       "      <td>FB870BF3-9F3A-44FF-9BF7-D7A047A52F43</td>\n",
       "      <td>1620860062</td>\n",
       "      <td>389971968</td>\n",
       "    </tr>\n",
       "    <tr>\n",
       "      <th>0</th>\n",
       "      <td>workload:memory_usage_bytes:sum</td>\n",
       "      <td>00351e6e-53ce-465e-9493-cf0cd2367049</td>\n",
       "      <td>openshift-monitoring/k8s</td>\n",
       "      <td>true</td>\n",
       "      <td>FB870BF3-9F3A-44FF-9BF7-D7A047A52F43</td>\n",
       "      <td>1620852056</td>\n",
       "      <td>385421312</td>\n",
       "    </tr>\n",
       "    <tr>\n",
       "      <th>0</th>\n",
       "      <td>workload:memory_usage_bytes:sum</td>\n",
       "      <td>003ba133-e754-4d5a-bc57-675b386d1f05</td>\n",
       "      <td>openshift-monitoring/k8s</td>\n",
       "      <td>true</td>\n",
       "      <td>FB870BF3-9F3A-44FF-9BF7-D7A047A52F43</td>\n",
       "      <td>1620852942</td>\n",
       "      <td>1190780928</td>\n",
       "    </tr>\n",
       "    <tr>\n",
       "      <th>0</th>\n",
       "      <td>workload:memory_usage_bytes:sum</td>\n",
       "      <td>00479ead-b7fc-49c2-ae20-3990a9b3d08c</td>\n",
       "      <td>openshift-monitoring/k8s</td>\n",
       "      <td>true</td>\n",
       "      <td>FB870BF3-9F3A-44FF-9BF7-D7A047A52F43</td>\n",
       "      <td>1620855643</td>\n",
       "      <td>269168640</td>\n",
       "    </tr>\n",
       "    <tr>\n",
       "      <th>0</th>\n",
       "      <td>workload:memory_usage_bytes:sum</td>\n",
       "      <td>009ef697-17c5-431e-a5f5-42d93d9c6a5a</td>\n",
       "      <td>openshift-monitoring/k8s</td>\n",
       "      <td>true</td>\n",
       "      <td>FB870BF3-9F3A-44FF-9BF7-D7A047A52F43</td>\n",
       "      <td>1620855709</td>\n",
       "      <td>83660800</td>\n",
       "    </tr>\n",
       "  </tbody>\n",
       "</table>\n",
       "</div>"
      ],
      "text/plain": [
       "                          __name__                                   _id  \\\n",
       "0  workload:memory_usage_bytes:sum  00003d61-9db1-4757-9cd1-84df271daeb9   \n",
       "0  workload:memory_usage_bytes:sum  00351e6e-53ce-465e-9493-cf0cd2367049   \n",
       "0  workload:memory_usage_bytes:sum  003ba133-e754-4d5a-bc57-675b386d1f05   \n",
       "0  workload:memory_usage_bytes:sum  00479ead-b7fc-49c2-ae20-3990a9b3d08c   \n",
       "0  workload:memory_usage_bytes:sum  009ef697-17c5-431e-a5f5-42d93d9c6a5a   \n",
       "\n",
       "                 prometheus receive                             tenant_id  \\\n",
       "0  openshift-monitoring/k8s    true  FB870BF3-9F3A-44FF-9BF7-D7A047A52F43   \n",
       "0  openshift-monitoring/k8s    true  FB870BF3-9F3A-44FF-9BF7-D7A047A52F43   \n",
       "0  openshift-monitoring/k8s    true  FB870BF3-9F3A-44FF-9BF7-D7A047A52F43   \n",
       "0  openshift-monitoring/k8s    true  FB870BF3-9F3A-44FF-9BF7-D7A047A52F43   \n",
       "0  openshift-monitoring/k8s    true  FB870BF3-9F3A-44FF-9BF7-D7A047A52F43   \n",
       "\n",
       "    timestamp       value  \n",
       "0  1620860062   389971968  \n",
       "0  1620852056   385421312  \n",
       "0  1620852942  1190780928  \n",
       "0  1620855643   269168640  \n",
       "0  1620855709    83660800  "
      ]
     },
     "execution_count": 9,
     "metadata": {},
     "output_type": "execute_result"
    }
   ],
   "source": [
    "df_image_mem = pd.DataFrame()\n",
    "\n",
    "for path in tqdm(image_archive_path[:]):\n",
    "    pos = path.split(\"/\")[-1].split(\".\")[0]\n",
    "    hours = int(pos[0:2])\n",
    "    mins = int(pos[2:4])\n",
    "    sec = int(pos[4:6])\n",
    "    cluster_pos = path.split(\"/\")[3]\n",
    "    ts = dt.datetime(\n",
    "        year=2021,\n",
    "        month=5,\n",
    "        day=12,\n",
    "        hour=hours,\n",
    "        minute=mins,\n",
    "        second=sec,\n",
    "        tzinfo=dt.timezone.utc,\n",
    "    )\n",
    "    df = MetricSnapshotDataFrame(\n",
    "        pc.custom_query(\n",
    "            f'workload:memory_usage_bytes:sum{{_id=\"{cluster_pos}\"}}',\n",
    "            params={\"time\": ts.timestamp()},\n",
    "        )\n",
    "    )\n",
    "    df_image_mem = df_image_mem.append(df)\n",
    "df_image_mem.head()"
   ]
  },
  {
   "cell_type": "code",
   "execution_count": 10,
   "id": "4116b01f",
   "metadata": {
    "ExecuteTime": {
     "end_time": "2021-07-27T02:48:08.851698Z",
     "start_time": "2021-07-27T02:48:08.842588Z"
    }
   },
   "outputs": [
    {
     "name": "stdout",
     "output_type": "stream",
     "text": [
      "Total number of cluster_id in original image layer dataset : 2802\n",
      "Number of cluster_id for the extracted dataset : 1805\n",
      "Number of timestamps : 1749\n"
     ]
    }
   ],
   "source": [
    "print(\n",
    "    \"Total number of cluster_id in original image layer dataset :\",\n",
    "    image_layers_df.cluster_id.nunique(),\n",
    ")\n",
    "print(\"Number of cluster_id for the extracted dataset :\", df_image_mem._id.nunique())\n",
    "print(\"Number of timestamps :\", df_image_mem.timestamp.nunique())"
   ]
  },
  {
   "cell_type": "markdown",
   "id": "ebdd7928",
   "metadata": {},
   "source": [
    "For the metric,`workload:memory_usage_bytes:sum`, we observe that, out of 2802 cluster_id from the image layers dataset of insight operator workload. We could only extract the information for 1805 cluster_id, i.e, ~64.4% cluster_id from the telemetry database. "
   ]
  },
  {
   "cell_type": "markdown",
   "id": "1f9d96ee",
   "metadata": {},
   "source": [
    "---"
   ]
  },
  {
   "cell_type": "markdown",
   "id": "dd86f470",
   "metadata": {},
   "source": [
    "## Metric name: `openshift:cpu_usage_cores:sum`"
   ]
  },
  {
   "cell_type": "code",
   "execution_count": 11,
   "id": "2a142618",
   "metadata": {
    "ExecuteTime": {
     "end_time": "2021-07-27T02:49:17.609634Z",
     "start_time": "2021-07-27T02:48:08.852743Z"
    }
   },
   "outputs": [
    {
     "name": "stderr",
     "output_type": "stream",
     "text": [
      "100%|██████████| 2802/2802 [01:08<00:00, 40.76it/s]\n"
     ]
    },
    {
     "data": {
      "text/html": [
       "<div>\n",
       "<style scoped>\n",
       "    .dataframe tbody tr th:only-of-type {\n",
       "        vertical-align: middle;\n",
       "    }\n",
       "\n",
       "    .dataframe tbody tr th {\n",
       "        vertical-align: top;\n",
       "    }\n",
       "\n",
       "    .dataframe thead th {\n",
       "        text-align: right;\n",
       "    }\n",
       "</style>\n",
       "<table border=\"1\" class=\"dataframe\">\n",
       "  <thead>\n",
       "    <tr style=\"text-align: right;\">\n",
       "      <th></th>\n",
       "      <th>__name__</th>\n",
       "      <th>_id</th>\n",
       "      <th>prometheus</th>\n",
       "      <th>receive</th>\n",
       "      <th>tenant_id</th>\n",
       "      <th>timestamp</th>\n",
       "      <th>value</th>\n",
       "    </tr>\n",
       "  </thead>\n",
       "  <tbody>\n",
       "    <tr>\n",
       "      <th>0</th>\n",
       "      <td>openshift:cpu_usage_cores:sum</td>\n",
       "      <td>00003d61-9db1-4757-9cd1-84df271daeb9</td>\n",
       "      <td>openshift-monitoring/k8s</td>\n",
       "      <td>true</td>\n",
       "      <td>FB870BF3-9F3A-44FF-9BF7-D7A047A52F43</td>\n",
       "      <td>1620860062</td>\n",
       "      <td>1.9291393691359602</td>\n",
       "    </tr>\n",
       "    <tr>\n",
       "      <th>0</th>\n",
       "      <td>openshift:cpu_usage_cores:sum</td>\n",
       "      <td>00351e6e-53ce-465e-9493-cf0cd2367049</td>\n",
       "      <td>openshift-monitoring/k8s</td>\n",
       "      <td>true</td>\n",
       "      <td>FB870BF3-9F3A-44FF-9BF7-D7A047A52F43</td>\n",
       "      <td>1620852056</td>\n",
       "      <td>1.7056283926121354</td>\n",
       "    </tr>\n",
       "    <tr>\n",
       "      <th>0</th>\n",
       "      <td>openshift:cpu_usage_cores:sum</td>\n",
       "      <td>003ba133-e754-4d5a-bc57-675b386d1f05</td>\n",
       "      <td>openshift-monitoring/k8s</td>\n",
       "      <td>true</td>\n",
       "      <td>FB870BF3-9F3A-44FF-9BF7-D7A047A52F43</td>\n",
       "      <td>1620852942</td>\n",
       "      <td>2.5198167090408625</td>\n",
       "    </tr>\n",
       "    <tr>\n",
       "      <th>0</th>\n",
       "      <td>openshift:cpu_usage_cores:sum</td>\n",
       "      <td>00479ead-b7fc-49c2-ae20-3990a9b3d08c</td>\n",
       "      <td>openshift-monitoring/k8s</td>\n",
       "      <td>true</td>\n",
       "      <td>FB870BF3-9F3A-44FF-9BF7-D7A047A52F43</td>\n",
       "      <td>1620855643</td>\n",
       "      <td>1.6697914679164034</td>\n",
       "    </tr>\n",
       "    <tr>\n",
       "      <th>0</th>\n",
       "      <td>openshift:cpu_usage_cores:sum</td>\n",
       "      <td>009ef697-17c5-431e-a5f5-42d93d9c6a5a</td>\n",
       "      <td>openshift-monitoring/k8s</td>\n",
       "      <td>true</td>\n",
       "      <td>FB870BF3-9F3A-44FF-9BF7-D7A047A52F43</td>\n",
       "      <td>1620855709</td>\n",
       "      <td>3.497572298494714</td>\n",
       "    </tr>\n",
       "  </tbody>\n",
       "</table>\n",
       "</div>"
      ],
      "text/plain": [
       "                        __name__                                   _id  \\\n",
       "0  openshift:cpu_usage_cores:sum  00003d61-9db1-4757-9cd1-84df271daeb9   \n",
       "0  openshift:cpu_usage_cores:sum  00351e6e-53ce-465e-9493-cf0cd2367049   \n",
       "0  openshift:cpu_usage_cores:sum  003ba133-e754-4d5a-bc57-675b386d1f05   \n",
       "0  openshift:cpu_usage_cores:sum  00479ead-b7fc-49c2-ae20-3990a9b3d08c   \n",
       "0  openshift:cpu_usage_cores:sum  009ef697-17c5-431e-a5f5-42d93d9c6a5a   \n",
       "\n",
       "                 prometheus receive                             tenant_id  \\\n",
       "0  openshift-monitoring/k8s    true  FB870BF3-9F3A-44FF-9BF7-D7A047A52F43   \n",
       "0  openshift-monitoring/k8s    true  FB870BF3-9F3A-44FF-9BF7-D7A047A52F43   \n",
       "0  openshift-monitoring/k8s    true  FB870BF3-9F3A-44FF-9BF7-D7A047A52F43   \n",
       "0  openshift-monitoring/k8s    true  FB870BF3-9F3A-44FF-9BF7-D7A047A52F43   \n",
       "0  openshift-monitoring/k8s    true  FB870BF3-9F3A-44FF-9BF7-D7A047A52F43   \n",
       "\n",
       "    timestamp               value  \n",
       "0  1620860062  1.9291393691359602  \n",
       "0  1620852056  1.7056283926121354  \n",
       "0  1620852942  2.5198167090408625  \n",
       "0  1620855643  1.6697914679164034  \n",
       "0  1620855709   3.497572298494714  "
      ]
     },
     "execution_count": 11,
     "metadata": {},
     "output_type": "execute_result"
    }
   ],
   "source": [
    "df_image_open_cpu = pd.DataFrame()\n",
    "\n",
    "for path in tqdm(image_archive_path[:]):\n",
    "    pos = path.split(\"/\")[-1].split(\".\")[0]\n",
    "    hours = int(pos[0:2])\n",
    "    mins = int(pos[2:4])\n",
    "    sec = int(pos[4:6])\n",
    "    cluster_pos = path.split(\"/\")[3]\n",
    "    ts = dt.datetime(\n",
    "        year=2021,\n",
    "        month=5,\n",
    "        day=12,\n",
    "        hour=hours,\n",
    "        minute=mins,\n",
    "        second=sec,\n",
    "        tzinfo=dt.timezone.utc,\n",
    "    )\n",
    "    df = MetricSnapshotDataFrame(\n",
    "        pc.custom_query(\n",
    "            f'openshift:cpu_usage_cores:sum{{_id=\"{cluster_pos}\"}}',\n",
    "            params={\"time\": ts.timestamp()},\n",
    "        )\n",
    "    )\n",
    "    df_image_open_cpu = df_image_open_cpu.append(df)\n",
    "df_image_open_cpu.head()"
   ]
  },
  {
   "cell_type": "code",
   "execution_count": 12,
   "id": "ca5c0b1b",
   "metadata": {
    "ExecuteTime": {
     "end_time": "2021-07-27T02:49:17.619776Z",
     "start_time": "2021-07-27T02:49:17.610682Z"
    }
   },
   "outputs": [
    {
     "name": "stdout",
     "output_type": "stream",
     "text": [
      "Total number of cluster_id in original image layer dataset : 2802\n",
      "Number of cluster_id for the extracted dataset : 1845\n",
      "Number of timestamps : 1786\n"
     ]
    }
   ],
   "source": [
    "print(\n",
    "    \"Total number of cluster_id in original image layer dataset :\",\n",
    "    image_layers_df.cluster_id.nunique(),\n",
    ")\n",
    "print(\n",
    "    \"Number of cluster_id for the extracted dataset :\", df_image_open_cpu._id.nunique()\n",
    ")\n",
    "print(\"Number of timestamps :\", df_image_open_cpu.timestamp.nunique())"
   ]
  },
  {
   "cell_type": "markdown",
   "id": "d785f7ae",
   "metadata": {},
   "source": [
    "For the metric,`openshift:cpu_usage_cores:sum`, we observe that, out of 2802 cluster_id from the image layers dataset of insight operator workload. We could only extract the information for 1845 cluster_id, i.e, ~65.8% cluster_id from the telemetry database. "
   ]
  },
  {
   "cell_type": "markdown",
   "id": "a128ac57",
   "metadata": {},
   "source": [
    "---"
   ]
  },
  {
   "cell_type": "markdown",
   "id": "d4d24699",
   "metadata": {
    "ExecuteTime": {
     "end_time": "2021-07-22T15:47:57.686898Z",
     "start_time": "2021-07-22T15:47:57.684234Z"
    }
   },
   "source": [
    "## Metric name: `openshift:memory_usage_bytes:sum`"
   ]
  },
  {
   "cell_type": "code",
   "execution_count": 13,
   "id": "bfcdcfa7",
   "metadata": {
    "ExecuteTime": {
     "end_time": "2021-07-27T02:50:24.169413Z",
     "start_time": "2021-07-27T02:49:17.620854Z"
    }
   },
   "outputs": [
    {
     "name": "stderr",
     "output_type": "stream",
     "text": [
      "100%|██████████| 2802/2802 [01:06<00:00, 42.11it/s]\n"
     ]
    },
    {
     "data": {
      "text/html": [
       "<div>\n",
       "<style scoped>\n",
       "    .dataframe tbody tr th:only-of-type {\n",
       "        vertical-align: middle;\n",
       "    }\n",
       "\n",
       "    .dataframe tbody tr th {\n",
       "        vertical-align: top;\n",
       "    }\n",
       "\n",
       "    .dataframe thead th {\n",
       "        text-align: right;\n",
       "    }\n",
       "</style>\n",
       "<table border=\"1\" class=\"dataframe\">\n",
       "  <thead>\n",
       "    <tr style=\"text-align: right;\">\n",
       "      <th></th>\n",
       "      <th>__name__</th>\n",
       "      <th>_id</th>\n",
       "      <th>prometheus</th>\n",
       "      <th>receive</th>\n",
       "      <th>tenant_id</th>\n",
       "      <th>timestamp</th>\n",
       "      <th>value</th>\n",
       "    </tr>\n",
       "  </thead>\n",
       "  <tbody>\n",
       "    <tr>\n",
       "      <th>0</th>\n",
       "      <td>openshift:memory_usage_bytes:sum</td>\n",
       "      <td>00003d61-9db1-4757-9cd1-84df271daeb9</td>\n",
       "      <td>openshift-monitoring/k8s</td>\n",
       "      <td>true</td>\n",
       "      <td>FB870BF3-9F3A-44FF-9BF7-D7A047A52F43</td>\n",
       "      <td>1620860062</td>\n",
       "      <td>14560608256</td>\n",
       "    </tr>\n",
       "    <tr>\n",
       "      <th>0</th>\n",
       "      <td>openshift:memory_usage_bytes:sum</td>\n",
       "      <td>00351e6e-53ce-465e-9493-cf0cd2367049</td>\n",
       "      <td>openshift-monitoring/k8s</td>\n",
       "      <td>true</td>\n",
       "      <td>FB870BF3-9F3A-44FF-9BF7-D7A047A52F43</td>\n",
       "      <td>1620852056</td>\n",
       "      <td>14386823168</td>\n",
       "    </tr>\n",
       "    <tr>\n",
       "      <th>0</th>\n",
       "      <td>openshift:memory_usage_bytes:sum</td>\n",
       "      <td>003ba133-e754-4d5a-bc57-675b386d1f05</td>\n",
       "      <td>openshift-monitoring/k8s</td>\n",
       "      <td>true</td>\n",
       "      <td>FB870BF3-9F3A-44FF-9BF7-D7A047A52F43</td>\n",
       "      <td>1620852942</td>\n",
       "      <td>26840170496</td>\n",
       "    </tr>\n",
       "    <tr>\n",
       "      <th>0</th>\n",
       "      <td>openshift:memory_usage_bytes:sum</td>\n",
       "      <td>00479ead-b7fc-49c2-ae20-3990a9b3d08c</td>\n",
       "      <td>openshift-monitoring/k8s</td>\n",
       "      <td>true</td>\n",
       "      <td>FB870BF3-9F3A-44FF-9BF7-D7A047A52F43</td>\n",
       "      <td>1620855643</td>\n",
       "      <td>13228613632</td>\n",
       "    </tr>\n",
       "    <tr>\n",
       "      <th>0</th>\n",
       "      <td>openshift:memory_usage_bytes:sum</td>\n",
       "      <td>009ef697-17c5-431e-a5f5-42d93d9c6a5a</td>\n",
       "      <td>openshift-monitoring/k8s</td>\n",
       "      <td>true</td>\n",
       "      <td>FB870BF3-9F3A-44FF-9BF7-D7A047A52F43</td>\n",
       "      <td>1620855709</td>\n",
       "      <td>26006728704</td>\n",
       "    </tr>\n",
       "  </tbody>\n",
       "</table>\n",
       "</div>"
      ],
      "text/plain": [
       "                           __name__                                   _id  \\\n",
       "0  openshift:memory_usage_bytes:sum  00003d61-9db1-4757-9cd1-84df271daeb9   \n",
       "0  openshift:memory_usage_bytes:sum  00351e6e-53ce-465e-9493-cf0cd2367049   \n",
       "0  openshift:memory_usage_bytes:sum  003ba133-e754-4d5a-bc57-675b386d1f05   \n",
       "0  openshift:memory_usage_bytes:sum  00479ead-b7fc-49c2-ae20-3990a9b3d08c   \n",
       "0  openshift:memory_usage_bytes:sum  009ef697-17c5-431e-a5f5-42d93d9c6a5a   \n",
       "\n",
       "                 prometheus receive                             tenant_id  \\\n",
       "0  openshift-monitoring/k8s    true  FB870BF3-9F3A-44FF-9BF7-D7A047A52F43   \n",
       "0  openshift-monitoring/k8s    true  FB870BF3-9F3A-44FF-9BF7-D7A047A52F43   \n",
       "0  openshift-monitoring/k8s    true  FB870BF3-9F3A-44FF-9BF7-D7A047A52F43   \n",
       "0  openshift-monitoring/k8s    true  FB870BF3-9F3A-44FF-9BF7-D7A047A52F43   \n",
       "0  openshift-monitoring/k8s    true  FB870BF3-9F3A-44FF-9BF7-D7A047A52F43   \n",
       "\n",
       "    timestamp        value  \n",
       "0  1620860062  14560608256  \n",
       "0  1620852056  14386823168  \n",
       "0  1620852942  26840170496  \n",
       "0  1620855643  13228613632  \n",
       "0  1620855709  26006728704  "
      ]
     },
     "execution_count": 13,
     "metadata": {},
     "output_type": "execute_result"
    }
   ],
   "source": [
    "df_image_open_mem = pd.DataFrame()\n",
    "\n",
    "for path in tqdm(image_archive_path[:]):\n",
    "    pos = path.split(\"/\")[-1].split(\".\")[0]\n",
    "    hours = int(pos[0:2])\n",
    "    mins = int(pos[2:4])\n",
    "    sec = int(pos[4:6])\n",
    "    cluster_pos = path.split(\"/\")[3]\n",
    "    ts = dt.datetime(\n",
    "        year=2021,\n",
    "        month=5,\n",
    "        day=12,\n",
    "        hour=hours,\n",
    "        minute=mins,\n",
    "        second=sec,\n",
    "        tzinfo=dt.timezone.utc,\n",
    "    )\n",
    "    df = MetricSnapshotDataFrame(\n",
    "        pc.custom_query(\n",
    "            f'openshift:memory_usage_bytes:sum{{_id=\"{cluster_pos}\"}}',\n",
    "            params={\"time\": ts.timestamp()},\n",
    "        )\n",
    "    )\n",
    "    df_image_open_mem = df_image_open_mem.append(df)\n",
    "df_image_open_mem.head()"
   ]
  },
  {
   "cell_type": "code",
   "execution_count": 14,
   "id": "af1bc10c",
   "metadata": {
    "ExecuteTime": {
     "end_time": "2021-07-27T02:50:24.179649Z",
     "start_time": "2021-07-27T02:50:24.170474Z"
    }
   },
   "outputs": [
    {
     "name": "stdout",
     "output_type": "stream",
     "text": [
      "Total number of cluster_id in original image layer dataset : 2802\n",
      "Number of cluster_id for the extracted dataset : 1805\n",
      "Number of timestamps : 1749\n"
     ]
    }
   ],
   "source": [
    "print(\n",
    "    \"Total number of cluster_id in original image layer dataset :\",\n",
    "    image_layers_df.cluster_id.nunique(),\n",
    ")\n",
    "print(\n",
    "    \"Number of cluster_id for the extracted dataset :\", df_image_open_mem._id.nunique()\n",
    ")\n",
    "print(\"Number of timestamps :\", df_image_open_mem.timestamp.nunique())"
   ]
  },
  {
   "cell_type": "markdown",
   "id": "7de81501",
   "metadata": {},
   "source": [
    "For the metric,`openshift:memory_usage_bytes:sum`, we observe that, out of 2802 cluster_id from the image layers dataset of insight operator workload. We could only extract the information for 1805 cluster_id, i.e, ~64.4% cluster_id from the telemetry database. "
   ]
  },
  {
   "cell_type": "markdown",
   "id": "4871aa71",
   "metadata": {},
   "source": [
    "---"
   ]
  },
  {
   "cell_type": "markdown",
   "id": "34971ece",
   "metadata": {},
   "source": [
    "## Metric name: `cluster:cpu_usage_cores:sum`"
   ]
  },
  {
   "cell_type": "code",
   "execution_count": 15,
   "id": "46557ccd",
   "metadata": {
    "ExecuteTime": {
     "end_time": "2021-07-27T02:51:43.149458Z",
     "start_time": "2021-07-27T02:50:24.180518Z"
    }
   },
   "outputs": [
    {
     "name": "stderr",
     "output_type": "stream",
     "text": [
      "100%|██████████| 2802/2802 [01:18<00:00, 35.50it/s]\n"
     ]
    },
    {
     "data": {
      "text/html": [
       "<div>\n",
       "<style scoped>\n",
       "    .dataframe tbody tr th:only-of-type {\n",
       "        vertical-align: middle;\n",
       "    }\n",
       "\n",
       "    .dataframe tbody tr th {\n",
       "        vertical-align: top;\n",
       "    }\n",
       "\n",
       "    .dataframe thead th {\n",
       "        text-align: right;\n",
       "    }\n",
       "</style>\n",
       "<table border=\"1\" class=\"dataframe\">\n",
       "  <thead>\n",
       "    <tr style=\"text-align: right;\">\n",
       "      <th></th>\n",
       "      <th>__name__</th>\n",
       "      <th>_id</th>\n",
       "      <th>prometheus</th>\n",
       "      <th>receive</th>\n",
       "      <th>tenant_id</th>\n",
       "      <th>timestamp</th>\n",
       "      <th>value</th>\n",
       "    </tr>\n",
       "  </thead>\n",
       "  <tbody>\n",
       "    <tr>\n",
       "      <th>0</th>\n",
       "      <td>cluster:cpu_usage_cores:sum</td>\n",
       "      <td>00003d61-9db1-4757-9cd1-84df271daeb9</td>\n",
       "      <td>openshift-monitoring/k8s</td>\n",
       "      <td>true</td>\n",
       "      <td>FB870BF3-9F3A-44FF-9BF7-D7A047A52F43</td>\n",
       "      <td>1620860062</td>\n",
       "      <td>1.9614468847026272</td>\n",
       "    </tr>\n",
       "    <tr>\n",
       "      <th>0</th>\n",
       "      <td>cluster:cpu_usage_cores:sum</td>\n",
       "      <td>002663ad-bcf4-4c7c-9530-ecb351fe4001</td>\n",
       "      <td>openshift-monitoring/k8s</td>\n",
       "      <td>true</td>\n",
       "      <td>FB870BF3-9F3A-44FF-9BF7-D7A047A52F43</td>\n",
       "      <td>1620825377</td>\n",
       "      <td>4.345714285714284</td>\n",
       "    </tr>\n",
       "    <tr>\n",
       "      <th>0</th>\n",
       "      <td>cluster:cpu_usage_cores:sum</td>\n",
       "      <td>0030e092-3def-4e7a-96b7-17d45ca102fd</td>\n",
       "      <td>openshift-monitoring/k8s</td>\n",
       "      <td>true</td>\n",
       "      <td>FB870BF3-9F3A-44FF-9BF7-D7A047A52F43</td>\n",
       "      <td>1620812523</td>\n",
       "      <td>11.39365149650794</td>\n",
       "    </tr>\n",
       "    <tr>\n",
       "      <th>0</th>\n",
       "      <td>cluster:cpu_usage_cores:sum</td>\n",
       "      <td>00351e6e-53ce-465e-9493-cf0cd2367049</td>\n",
       "      <td>openshift-monitoring/k8s</td>\n",
       "      <td>true</td>\n",
       "      <td>FB870BF3-9F3A-44FF-9BF7-D7A047A52F43</td>\n",
       "      <td>1620852056</td>\n",
       "      <td>1.7365714285713953</td>\n",
       "    </tr>\n",
       "    <tr>\n",
       "      <th>0</th>\n",
       "      <td>cluster:cpu_usage_cores:sum</td>\n",
       "      <td>003ba133-e754-4d5a-bc57-675b386d1f05</td>\n",
       "      <td>openshift-monitoring/k8s</td>\n",
       "      <td>true</td>\n",
       "      <td>FB870BF3-9F3A-44FF-9BF7-D7A047A52F43</td>\n",
       "      <td>1620852942</td>\n",
       "      <td>2.7550476190445634</td>\n",
       "    </tr>\n",
       "  </tbody>\n",
       "</table>\n",
       "</div>"
      ],
      "text/plain": [
       "                      __name__                                   _id  \\\n",
       "0  cluster:cpu_usage_cores:sum  00003d61-9db1-4757-9cd1-84df271daeb9   \n",
       "0  cluster:cpu_usage_cores:sum  002663ad-bcf4-4c7c-9530-ecb351fe4001   \n",
       "0  cluster:cpu_usage_cores:sum  0030e092-3def-4e7a-96b7-17d45ca102fd   \n",
       "0  cluster:cpu_usage_cores:sum  00351e6e-53ce-465e-9493-cf0cd2367049   \n",
       "0  cluster:cpu_usage_cores:sum  003ba133-e754-4d5a-bc57-675b386d1f05   \n",
       "\n",
       "                 prometheus receive                             tenant_id  \\\n",
       "0  openshift-monitoring/k8s    true  FB870BF3-9F3A-44FF-9BF7-D7A047A52F43   \n",
       "0  openshift-monitoring/k8s    true  FB870BF3-9F3A-44FF-9BF7-D7A047A52F43   \n",
       "0  openshift-monitoring/k8s    true  FB870BF3-9F3A-44FF-9BF7-D7A047A52F43   \n",
       "0  openshift-monitoring/k8s    true  FB870BF3-9F3A-44FF-9BF7-D7A047A52F43   \n",
       "0  openshift-monitoring/k8s    true  FB870BF3-9F3A-44FF-9BF7-D7A047A52F43   \n",
       "\n",
       "    timestamp               value  \n",
       "0  1620860062  1.9614468847026272  \n",
       "0  1620825377   4.345714285714284  \n",
       "0  1620812523   11.39365149650794  \n",
       "0  1620852056  1.7365714285713953  \n",
       "0  1620852942  2.7550476190445634  "
      ]
     },
     "execution_count": 15,
     "metadata": {},
     "output_type": "execute_result"
    }
   ],
   "source": [
    "df_image_cluster_cpu = pd.DataFrame()\n",
    "\n",
    "for path in tqdm(image_archive_path[:]):\n",
    "    pos = path.split(\"/\")[-1].split(\".\")[0]\n",
    "    hours = int(pos[0:2])\n",
    "    mins = int(pos[2:4])\n",
    "    sec = int(pos[4:6])\n",
    "    cluster_pos = path.split(\"/\")[3]\n",
    "    ts = dt.datetime(\n",
    "        year=2021,\n",
    "        month=5,\n",
    "        day=12,\n",
    "        hour=hours,\n",
    "        minute=mins,\n",
    "        second=sec,\n",
    "        tzinfo=dt.timezone.utc,\n",
    "    )\n",
    "    df = MetricSnapshotDataFrame(\n",
    "        pc.custom_query(\n",
    "            f'cluster:cpu_usage_cores:sum{{_id=\"{cluster_pos}\"}}',\n",
    "            params={\"time\": ts.timestamp()},\n",
    "        )\n",
    "    )\n",
    "    df_image_cluster_cpu = df_image_cluster_cpu.append(df)\n",
    "df_image_cluster_cpu.head()"
   ]
  },
  {
   "cell_type": "code",
   "execution_count": 16,
   "id": "c4b530e5",
   "metadata": {
    "ExecuteTime": {
     "end_time": "2021-07-27T02:51:43.159068Z",
     "start_time": "2021-07-27T02:51:43.150423Z"
    }
   },
   "outputs": [
    {
     "name": "stdout",
     "output_type": "stream",
     "text": [
      "Total number of cluster_id in original image layer dataset : 2802\n",
      "Number of cluster_id for the extracted dataset : 2624\n",
      "Number of timestamps : 2535\n"
     ]
    }
   ],
   "source": [
    "print(\n",
    "    \"Total number of cluster_id in original image layer dataset :\",\n",
    "    image_layers_df.cluster_id.nunique(),\n",
    ")\n",
    "print(\n",
    "    \"Number of cluster_id for the extracted dataset :\",\n",
    "    df_image_cluster_cpu._id.nunique(),\n",
    ")\n",
    "print(\"Number of timestamps :\", df_image_cluster_cpu.timestamp.nunique())"
   ]
  },
  {
   "cell_type": "markdown",
   "id": "a22f82c5",
   "metadata": {},
   "source": [
    "For the metric,`cluster:cpu_usage_cores:sum`, we observe that, out of 2802 cluster_id from the image layers dataset of insight operator workload. We could only extract the information for 2624 cluster_id, i.e, ~93.6% cluster_id from the telemetry database. "
   ]
  },
  {
   "cell_type": "markdown",
   "id": "d359c067",
   "metadata": {},
   "source": [
    "---"
   ]
  },
  {
   "cell_type": "markdown",
   "id": "d1def1e5",
   "metadata": {
    "ExecuteTime": {
     "end_time": "2021-07-22T15:56:33.179061Z",
     "start_time": "2021-07-22T15:56:33.176943Z"
    }
   },
   "source": [
    "## Metric name: `cluster:memory_usage_bytes:sum`"
   ]
  },
  {
   "cell_type": "code",
   "execution_count": 17,
   "id": "5661e303",
   "metadata": {
    "ExecuteTime": {
     "end_time": "2021-07-27T02:52:48.104484Z",
     "start_time": "2021-07-27T02:51:43.159967Z"
    }
   },
   "outputs": [
    {
     "name": "stderr",
     "output_type": "stream",
     "text": [
      "100%|██████████| 2802/2802 [01:04<00:00, 43.19it/s]\n"
     ]
    },
    {
     "data": {
      "text/html": [
       "<div>\n",
       "<style scoped>\n",
       "    .dataframe tbody tr th:only-of-type {\n",
       "        vertical-align: middle;\n",
       "    }\n",
       "\n",
       "    .dataframe tbody tr th {\n",
       "        vertical-align: top;\n",
       "    }\n",
       "\n",
       "    .dataframe thead th {\n",
       "        text-align: right;\n",
       "    }\n",
       "</style>\n",
       "<table border=\"1\" class=\"dataframe\">\n",
       "  <thead>\n",
       "    <tr style=\"text-align: right;\">\n",
       "      <th></th>\n",
       "      <th>__name__</th>\n",
       "      <th>_id</th>\n",
       "      <th>prometheus</th>\n",
       "      <th>receive</th>\n",
       "      <th>tenant_id</th>\n",
       "      <th>timestamp</th>\n",
       "      <th>value</th>\n",
       "    </tr>\n",
       "  </thead>\n",
       "  <tbody>\n",
       "    <tr>\n",
       "      <th>0</th>\n",
       "      <td>cluster:memory_usage_bytes:sum</td>\n",
       "      <td>00003d61-9db1-4757-9cd1-84df271daeb9</td>\n",
       "      <td>openshift-monitoring/k8s</td>\n",
       "      <td>true</td>\n",
       "      <td>FB870BF3-9F3A-44FF-9BF7-D7A047A52F43</td>\n",
       "      <td>1620860062</td>\n",
       "      <td>14950580224</td>\n",
       "    </tr>\n",
       "    <tr>\n",
       "      <th>0</th>\n",
       "      <td>cluster:memory_usage_bytes:sum</td>\n",
       "      <td>002663ad-bcf4-4c7c-9530-ecb351fe4001</td>\n",
       "      <td>openshift-monitoring/k8s</td>\n",
       "      <td>true</td>\n",
       "      <td>FB870BF3-9F3A-44FF-9BF7-D7A047A52F43</td>\n",
       "      <td>1620825377</td>\n",
       "      <td>25248690176</td>\n",
       "    </tr>\n",
       "    <tr>\n",
       "      <th>0</th>\n",
       "      <td>cluster:memory_usage_bytes:sum</td>\n",
       "      <td>0030e092-3def-4e7a-96b7-17d45ca102fd</td>\n",
       "      <td>openshift-monitoring/k8s</td>\n",
       "      <td>true</td>\n",
       "      <td>FB870BF3-9F3A-44FF-9BF7-D7A047A52F43</td>\n",
       "      <td>1620812523</td>\n",
       "      <td>29709115392</td>\n",
       "    </tr>\n",
       "    <tr>\n",
       "      <th>0</th>\n",
       "      <td>cluster:memory_usage_bytes:sum</td>\n",
       "      <td>00351e6e-53ce-465e-9493-cf0cd2367049</td>\n",
       "      <td>openshift-monitoring/k8s</td>\n",
       "      <td>true</td>\n",
       "      <td>FB870BF3-9F3A-44FF-9BF7-D7A047A52F43</td>\n",
       "      <td>1620852056</td>\n",
       "      <td>14772244480</td>\n",
       "    </tr>\n",
       "    <tr>\n",
       "      <th>0</th>\n",
       "      <td>cluster:memory_usage_bytes:sum</td>\n",
       "      <td>003ba133-e754-4d5a-bc57-675b386d1f05</td>\n",
       "      <td>openshift-monitoring/k8s</td>\n",
       "      <td>true</td>\n",
       "      <td>FB870BF3-9F3A-44FF-9BF7-D7A047A52F43</td>\n",
       "      <td>1620852942</td>\n",
       "      <td>28030951424</td>\n",
       "    </tr>\n",
       "  </tbody>\n",
       "</table>\n",
       "</div>"
      ],
      "text/plain": [
       "                         __name__                                   _id  \\\n",
       "0  cluster:memory_usage_bytes:sum  00003d61-9db1-4757-9cd1-84df271daeb9   \n",
       "0  cluster:memory_usage_bytes:sum  002663ad-bcf4-4c7c-9530-ecb351fe4001   \n",
       "0  cluster:memory_usage_bytes:sum  0030e092-3def-4e7a-96b7-17d45ca102fd   \n",
       "0  cluster:memory_usage_bytes:sum  00351e6e-53ce-465e-9493-cf0cd2367049   \n",
       "0  cluster:memory_usage_bytes:sum  003ba133-e754-4d5a-bc57-675b386d1f05   \n",
       "\n",
       "                 prometheus receive                             tenant_id  \\\n",
       "0  openshift-monitoring/k8s    true  FB870BF3-9F3A-44FF-9BF7-D7A047A52F43   \n",
       "0  openshift-monitoring/k8s    true  FB870BF3-9F3A-44FF-9BF7-D7A047A52F43   \n",
       "0  openshift-monitoring/k8s    true  FB870BF3-9F3A-44FF-9BF7-D7A047A52F43   \n",
       "0  openshift-monitoring/k8s    true  FB870BF3-9F3A-44FF-9BF7-D7A047A52F43   \n",
       "0  openshift-monitoring/k8s    true  FB870BF3-9F3A-44FF-9BF7-D7A047A52F43   \n",
       "\n",
       "    timestamp        value  \n",
       "0  1620860062  14950580224  \n",
       "0  1620825377  25248690176  \n",
       "0  1620812523  29709115392  \n",
       "0  1620852056  14772244480  \n",
       "0  1620852942  28030951424  "
      ]
     },
     "execution_count": 17,
     "metadata": {},
     "output_type": "execute_result"
    }
   ],
   "source": [
    "df_image_cluster_mem = pd.DataFrame()\n",
    "\n",
    "for path in tqdm(image_archive_path[:]):\n",
    "    pos = path.split(\"/\")[-1].split(\".\")[0]\n",
    "    hours = int(pos[0:2])\n",
    "    mins = int(pos[2:4])\n",
    "    sec = int(pos[4:6])\n",
    "    cluster_pos = path.split(\"/\")[3]\n",
    "    ts = dt.datetime(\n",
    "        year=2021,\n",
    "        month=5,\n",
    "        day=12,\n",
    "        hour=hours,\n",
    "        minute=mins,\n",
    "        second=sec,\n",
    "        tzinfo=dt.timezone.utc,\n",
    "    )\n",
    "    df = MetricSnapshotDataFrame(\n",
    "        pc.custom_query(\n",
    "            f'cluster:memory_usage_bytes:sum{{_id=\"{cluster_pos}\"}}',\n",
    "            params={\"time\": ts.timestamp()},\n",
    "        )\n",
    "    )\n",
    "    df_image_cluster_mem = df_image_cluster_mem.append(df)\n",
    "df_image_cluster_mem.head()"
   ]
  },
  {
   "cell_type": "code",
   "execution_count": 18,
   "id": "213a74bf",
   "metadata": {
    "ExecuteTime": {
     "end_time": "2021-07-27T02:52:48.115161Z",
     "start_time": "2021-07-27T02:52:48.106277Z"
    }
   },
   "outputs": [
    {
     "name": "stdout",
     "output_type": "stream",
     "text": [
      "Total number of cluster_id in original image layer dataset : 2802\n",
      "Number of cluster_id for the extracted dataset : 2673\n",
      "Number of timestamps : 2581\n"
     ]
    }
   ],
   "source": [
    "print(\n",
    "    \"Total number of cluster_id in original image layer dataset :\",\n",
    "    image_layers_df.cluster_id.nunique(),\n",
    ")\n",
    "print(\n",
    "    \"Number of cluster_id for the extracted dataset :\",\n",
    "    df_image_cluster_mem._id.nunique(),\n",
    ")\n",
    "print(\"Number of timestamps :\", df_image_cluster_mem.timestamp.nunique())"
   ]
  },
  {
   "cell_type": "markdown",
   "id": "7122f9a0",
   "metadata": {},
   "source": [
    "For the metric,`cluster:memory_usage_bytes:sum`, we observe that, out of 2802 cluster_id from the image layers dataset of insight operator workload. We could only extract the information for 2673 cluster_id, i.e, ~95.3% cluster_id from the telemetry database. "
   ]
  },
  {
   "cell_type": "markdown",
   "id": "a784d410",
   "metadata": {},
   "source": [
    "In the next section, we will do the `outer` merging for all the six datasets above. But first, since we have the common name for `value` column, we will rename them respectively. "
   ]
  },
  {
   "cell_type": "markdown",
   "id": "fd79b365",
   "metadata": {},
   "source": [
    "## Merging Datasets"
   ]
  },
  {
   "cell_type": "markdown",
   "id": "fd653189",
   "metadata": {},
   "source": [
    "**Renaming the value column for respective datasets:**"
   ]
  },
  {
   "cell_type": "code",
   "execution_count": 19,
   "id": "381fbf21",
   "metadata": {
    "ExecuteTime": {
     "end_time": "2021-07-27T02:52:48.173835Z",
     "start_time": "2021-07-27T02:52:48.116364Z"
    }
   },
   "outputs": [],
   "source": [
    "df_image_cpu.rename(\n",
    "    columns={\"value\": \"value_workload:cpu_usage_cores:sum\"}, inplace=True\n",
    ")\n",
    "df_image_mem.rename(\n",
    "    columns={\"value\": \"value_workload:memory_usage_bytes:sum\"}, inplace=True\n",
    ")\n",
    "df_image_open_cpu.rename(\n",
    "    columns={\"value\": \"value_openshift:cpu_usage_cores:sum\"}, inplace=True\n",
    ")\n",
    "df_image_open_mem.rename(\n",
    "    columns={\"value\": \"value_openshift:memory_usage_bytes:sum\"}, inplace=True\n",
    ")\n",
    "df_image_cluster_cpu.rename(\n",
    "    columns={\"value\": \"value_cluster:cpu_usage_cores:sum\"}, inplace=True\n",
    ")\n",
    "df_image_cluster_mem.rename(\n",
    "    columns={\"value\": \"value_cluster:memory_usage_bytes:sum\"}, inplace=True\n",
    ")"
   ]
  },
  {
   "cell_type": "markdown",
   "id": "c4f10169",
   "metadata": {
    "ExecuteTime": {
     "end_time": "2021-07-22T17:14:11.648164Z",
     "start_time": "2021-07-22T17:14:11.638730Z"
    }
   },
   "source": [
    "**Merging six dataset**"
   ]
  },
  {
   "cell_type": "code",
   "execution_count": 20,
   "id": "4fcb2f47",
   "metadata": {
    "ExecuteTime": {
     "end_time": "2021-07-27T02:52:48.208129Z",
     "start_time": "2021-07-27T02:52:48.174719Z"
    }
   },
   "outputs": [],
   "source": [
    "# Arranging the dataset for merging\n",
    "df_image_cpu_merge = df_image_cpu[\n",
    "    [\"_id\", \"timestamp\", \"value_workload:cpu_usage_cores:sum\"]\n",
    "]\n",
    "df_image_mem_merge = df_image_mem[\n",
    "    [\"_id\", \"timestamp\", \"value_workload:memory_usage_bytes:sum\"]\n",
    "]\n",
    "df_image_open_cpu_merge = df_image_open_cpu[\n",
    "    [\"_id\", \"timestamp\", \"value_openshift:cpu_usage_cores:sum\"]\n",
    "]\n",
    "df_image_open_mem_merge = df_image_open_mem[\n",
    "    [\"_id\", \"timestamp\", \"value_openshift:memory_usage_bytes:sum\"]\n",
    "]\n",
    "df_image_cluster_cpu_merge = df_image_cluster_cpu[\n",
    "    [\"_id\", \"timestamp\", \"value_cluster:cpu_usage_cores:sum\"]\n",
    "]\n",
    "df_image_cluster_mem_merge = df_image_cluster_mem[\n",
    "    [\"_id\", \"timestamp\", \"value_cluster:memory_usage_bytes:sum\"]\n",
    "]\n",
    "\n",
    "# Merging\n",
    "merge1 = pd.merge(\n",
    "    df_image_cpu_merge, df_image_mem_merge, on=[\"_id\", \"timestamp\"], how=\"outer\"\n",
    ")\n",
    "merge2 = pd.merge(merge1, df_image_open_cpu_merge, on=[\"_id\", \"timestamp\"], how=\"outer\")\n",
    "merge3 = pd.merge(merge2, df_image_open_mem_merge, on=[\"_id\", \"timestamp\"], how=\"outer\")\n",
    "merge4 = pd.merge(\n",
    "    merge3, df_image_cluster_cpu_merge, on=[\"_id\", \"timestamp\"], how=\"outer\"\n",
    ")\n",
    "telemeter_image_data = pd.merge(\n",
    "    merge4, df_image_cluster_mem_merge, on=[\"_id\", \"timestamp\"], how=\"outer\"\n",
    ")"
   ]
  },
  {
   "cell_type": "code",
   "execution_count": 21,
   "id": "f2a51aa9",
   "metadata": {
    "ExecuteTime": {
     "end_time": "2021-07-27T02:52:48.215957Z",
     "start_time": "2021-07-27T02:52:48.209014Z"
    }
   },
   "outputs": [
    {
     "data": {
      "text/html": [
       "<div>\n",
       "<style scoped>\n",
       "    .dataframe tbody tr th:only-of-type {\n",
       "        vertical-align: middle;\n",
       "    }\n",
       "\n",
       "    .dataframe tbody tr th {\n",
       "        vertical-align: top;\n",
       "    }\n",
       "\n",
       "    .dataframe thead th {\n",
       "        text-align: right;\n",
       "    }\n",
       "</style>\n",
       "<table border=\"1\" class=\"dataframe\">\n",
       "  <thead>\n",
       "    <tr style=\"text-align: right;\">\n",
       "      <th></th>\n",
       "      <th>_id</th>\n",
       "      <th>timestamp</th>\n",
       "      <th>value_workload:cpu_usage_cores:sum</th>\n",
       "      <th>value_workload:memory_usage_bytes:sum</th>\n",
       "      <th>value_openshift:cpu_usage_cores:sum</th>\n",
       "      <th>value_openshift:memory_usage_bytes:sum</th>\n",
       "      <th>value_cluster:cpu_usage_cores:sum</th>\n",
       "      <th>value_cluster:memory_usage_bytes:sum</th>\n",
       "    </tr>\n",
       "  </thead>\n",
       "  <tbody>\n",
       "    <tr>\n",
       "      <th>0</th>\n",
       "      <td>00003d61-9db1-4757-9cd1-84df271daeb9</td>\n",
       "      <td>1620860062</td>\n",
       "      <td>0.03230751556666692</td>\n",
       "      <td>389971968</td>\n",
       "      <td>1.9291393691359602</td>\n",
       "      <td>14560608256</td>\n",
       "      <td>1.9614468847026272</td>\n",
       "      <td>14950580224</td>\n",
       "    </tr>\n",
       "    <tr>\n",
       "      <th>1</th>\n",
       "      <td>00351e6e-53ce-465e-9493-cf0cd2367049</td>\n",
       "      <td>1620852056</td>\n",
       "      <td>0.030943035959259964</td>\n",
       "      <td>385421312</td>\n",
       "      <td>1.7056283926121354</td>\n",
       "      <td>14386823168</td>\n",
       "      <td>1.7365714285713953</td>\n",
       "      <td>14772244480</td>\n",
       "    </tr>\n",
       "    <tr>\n",
       "      <th>2</th>\n",
       "      <td>003ba133-e754-4d5a-bc57-675b386d1f05</td>\n",
       "      <td>1620852942</td>\n",
       "      <td>0.23523091000370105</td>\n",
       "      <td>1190780928</td>\n",
       "      <td>2.5198167090408625</td>\n",
       "      <td>26840170496</td>\n",
       "      <td>2.7550476190445634</td>\n",
       "      <td>28030951424</td>\n",
       "    </tr>\n",
       "    <tr>\n",
       "      <th>3</th>\n",
       "      <td>00479ead-b7fc-49c2-ae20-3990a9b3d08c</td>\n",
       "      <td>1620855643</td>\n",
       "      <td>0.029065674940740756</td>\n",
       "      <td>269168640</td>\n",
       "      <td>1.6697914679164034</td>\n",
       "      <td>13228613632</td>\n",
       "      <td>1.6988571428571442</td>\n",
       "      <td>13497782272</td>\n",
       "    </tr>\n",
       "    <tr>\n",
       "      <th>4</th>\n",
       "      <td>009ef697-17c5-431e-a5f5-42d93d9c6a5a</td>\n",
       "      <td>1620855709</td>\n",
       "      <td>0.0035705586481481486</td>\n",
       "      <td>83660800</td>\n",
       "      <td>3.497572298494714</td>\n",
       "      <td>26006728704</td>\n",
       "      <td>3.501142857142862</td>\n",
       "      <td>26090389504</td>\n",
       "    </tr>\n",
       "  </tbody>\n",
       "</table>\n",
       "</div>"
      ],
      "text/plain": [
       "                                    _id   timestamp  \\\n",
       "0  00003d61-9db1-4757-9cd1-84df271daeb9  1620860062   \n",
       "1  00351e6e-53ce-465e-9493-cf0cd2367049  1620852056   \n",
       "2  003ba133-e754-4d5a-bc57-675b386d1f05  1620852942   \n",
       "3  00479ead-b7fc-49c2-ae20-3990a9b3d08c  1620855643   \n",
       "4  009ef697-17c5-431e-a5f5-42d93d9c6a5a  1620855709   \n",
       "\n",
       "  value_workload:cpu_usage_cores:sum value_workload:memory_usage_bytes:sum  \\\n",
       "0                0.03230751556666692                             389971968   \n",
       "1               0.030943035959259964                             385421312   \n",
       "2                0.23523091000370105                            1190780928   \n",
       "3               0.029065674940740756                             269168640   \n",
       "4              0.0035705586481481486                              83660800   \n",
       "\n",
       "  value_openshift:cpu_usage_cores:sum value_openshift:memory_usage_bytes:sum  \\\n",
       "0                  1.9291393691359602                            14560608256   \n",
       "1                  1.7056283926121354                            14386823168   \n",
       "2                  2.5198167090408625                            26840170496   \n",
       "3                  1.6697914679164034                            13228613632   \n",
       "4                   3.497572298494714                            26006728704   \n",
       "\n",
       "  value_cluster:cpu_usage_cores:sum value_cluster:memory_usage_bytes:sum  \n",
       "0                1.9614468847026272                          14950580224  \n",
       "1                1.7365714285713953                          14772244480  \n",
       "2                2.7550476190445634                          28030951424  \n",
       "3                1.6988571428571442                          13497782272  \n",
       "4                 3.501142857142862                          26090389504  "
      ]
     },
     "execution_count": 21,
     "metadata": {},
     "output_type": "execute_result"
    }
   ],
   "source": [
    "telemeter_image_data.head()"
   ]
  },
  {
   "cell_type": "markdown",
   "id": "61756488",
   "metadata": {},
   "source": [
    "Now, we save the merged data in DH-PLAYPEN bucket."
   ]
  },
  {
   "cell_type": "code",
   "execution_count": 22,
   "id": "bd1692d1",
   "metadata": {
    "ExecuteTime": {
     "end_time": "2021-07-27T02:52:48.426642Z",
     "start_time": "2021-07-27T02:52:48.216772Z"
    }
   },
   "outputs": [],
   "source": [
    "# Uploading the mapping dataset in the DH-PLAYPEN bucket\n",
    "parquet_image_buffer = io.BytesIO()\n",
    "telemeter_image_data.to_parquet(parquet_image_buffer)\n",
    "s3_obj = s3.Object(\n",
    "    s3_bucket, \"ccx/fingerprinting/image_layers/telemeter_image_data.parquet\"\n",
    ")\n",
    "status = s3_obj.put(Body=parquet_image_buffer.getvalue())"
   ]
  },
  {
   "cell_type": "code",
   "execution_count": 23,
   "id": "a4ab1231",
   "metadata": {
    "ExecuteTime": {
     "end_time": "2021-07-27T02:52:48.437671Z",
     "start_time": "2021-07-27T02:52:48.427628Z"
    }
   },
   "outputs": [
    {
     "name": "stdout",
     "output_type": "stream",
     "text": [
      "Total number of cluster_id in original image layer dataset : 2802\n",
      "Number of cluster_id for the extracted dataset : 2673\n",
      "Number of timestamps : 2581\n"
     ]
    }
   ],
   "source": [
    "print(\n",
    "    \"Total number of cluster_id in original image layer dataset :\",\n",
    "    image_layers_df.cluster_id.nunique(),\n",
    ")\n",
    "print(\n",
    "    \"Number of cluster_id for the extracted dataset :\",\n",
    "    telemeter_image_data._id.nunique(),\n",
    ")\n",
    "print(\"Number of timestamps :\", telemeter_image_data.timestamp.nunique())"
   ]
  },
  {
   "cell_type": "markdown",
   "id": "417a6d95",
   "metadata": {
    "ExecuteTime": {
     "end_time": "2021-07-22T17:56:16.107134Z",
     "start_time": "2021-07-22T17:56:16.101330Z"
    }
   },
   "source": [
    "Hence, we observe that we have atleast one metric information for 2673 cluster_ids, i.e, ~95.3% of the total, from the image layers dataset."
   ]
  },
  {
   "cell_type": "markdown",
   "id": "e9657590",
   "metadata": {},
   "source": [
    "---"
   ]
  },
  {
   "cell_type": "markdown",
   "id": "8b6cd1d4",
   "metadata": {},
   "source": [
    "# Getting the data for given `timestamp` and `cluster_id` for Container dataset"
   ]
  },
  {
   "cell_type": "markdown",
   "id": "82c2ff5b",
   "metadata": {},
   "source": [
    "We first extract the list of archive path and use the split method in order to get the information about the timestamp and cluster_id. We then use the Prometheus query in order to get the dataframe."
   ]
  },
  {
   "cell_type": "markdown",
   "id": "92429bae",
   "metadata": {},
   "source": [
    "## Metric name: `workload:cpu_usage_cores:sum`"
   ]
  },
  {
   "cell_type": "code",
   "execution_count": 24,
   "id": "ca000f84",
   "metadata": {
    "ExecuteTime": {
     "end_time": "2021-07-27T02:53:25.821604Z",
     "start_time": "2021-07-27T02:52:48.438550Z"
    }
   },
   "outputs": [
    {
     "name": "stderr",
     "output_type": "stream",
     "text": [
      "100%|██████████| 2927/2927 [00:37<00:00, 78.43it/s]\n"
     ]
    },
    {
     "data": {
      "text/html": [
       "<div>\n",
       "<style scoped>\n",
       "    .dataframe tbody tr th:only-of-type {\n",
       "        vertical-align: middle;\n",
       "    }\n",
       "\n",
       "    .dataframe tbody tr th {\n",
       "        vertical-align: top;\n",
       "    }\n",
       "\n",
       "    .dataframe thead th {\n",
       "        text-align: right;\n",
       "    }\n",
       "</style>\n",
       "<table border=\"1\" class=\"dataframe\">\n",
       "  <thead>\n",
       "    <tr style=\"text-align: right;\">\n",
       "      <th></th>\n",
       "      <th>__name__</th>\n",
       "      <th>_id</th>\n",
       "      <th>prometheus</th>\n",
       "      <th>receive</th>\n",
       "      <th>tenant_id</th>\n",
       "      <th>timestamp</th>\n",
       "      <th>value</th>\n",
       "    </tr>\n",
       "  </thead>\n",
       "  <tbody>\n",
       "    <tr>\n",
       "      <th>0</th>\n",
       "      <td>workload:cpu_usage_cores:sum</td>\n",
       "      <td>00003d61-9db1-4757-9cd1-84df271daeb9</td>\n",
       "      <td>openshift-monitoring/k8s</td>\n",
       "      <td>true</td>\n",
       "      <td>FB870BF3-9F3A-44FF-9BF7-D7A047A52F43</td>\n",
       "      <td>1620860062</td>\n",
       "      <td>0.03230751556666692</td>\n",
       "    </tr>\n",
       "    <tr>\n",
       "      <th>0</th>\n",
       "      <td>workload:cpu_usage_cores:sum</td>\n",
       "      <td>00351e6e-53ce-465e-9493-cf0cd2367049</td>\n",
       "      <td>openshift-monitoring/k8s</td>\n",
       "      <td>true</td>\n",
       "      <td>FB870BF3-9F3A-44FF-9BF7-D7A047A52F43</td>\n",
       "      <td>1620852056</td>\n",
       "      <td>0.030943035959259964</td>\n",
       "    </tr>\n",
       "    <tr>\n",
       "      <th>0</th>\n",
       "      <td>workload:cpu_usage_cores:sum</td>\n",
       "      <td>003ba133-e754-4d5a-bc57-675b386d1f05</td>\n",
       "      <td>openshift-monitoring/k8s</td>\n",
       "      <td>true</td>\n",
       "      <td>FB870BF3-9F3A-44FF-9BF7-D7A047A52F43</td>\n",
       "      <td>1620852942</td>\n",
       "      <td>0.23523091000370105</td>\n",
       "    </tr>\n",
       "    <tr>\n",
       "      <th>0</th>\n",
       "      <td>workload:cpu_usage_cores:sum</td>\n",
       "      <td>00479ead-b7fc-49c2-ae20-3990a9b3d08c</td>\n",
       "      <td>openshift-monitoring/k8s</td>\n",
       "      <td>true</td>\n",
       "      <td>FB870BF3-9F3A-44FF-9BF7-D7A047A52F43</td>\n",
       "      <td>1620855643</td>\n",
       "      <td>0.029065674940740756</td>\n",
       "    </tr>\n",
       "    <tr>\n",
       "      <th>0</th>\n",
       "      <td>workload:cpu_usage_cores:sum</td>\n",
       "      <td>009ef697-17c5-431e-a5f5-42d93d9c6a5a</td>\n",
       "      <td>openshift-monitoring/k8s</td>\n",
       "      <td>true</td>\n",
       "      <td>FB870BF3-9F3A-44FF-9BF7-D7A047A52F43</td>\n",
       "      <td>1620855709</td>\n",
       "      <td>0.0035705586481481486</td>\n",
       "    </tr>\n",
       "  </tbody>\n",
       "</table>\n",
       "</div>"
      ],
      "text/plain": [
       "                       __name__                                   _id  \\\n",
       "0  workload:cpu_usage_cores:sum  00003d61-9db1-4757-9cd1-84df271daeb9   \n",
       "0  workload:cpu_usage_cores:sum  00351e6e-53ce-465e-9493-cf0cd2367049   \n",
       "0  workload:cpu_usage_cores:sum  003ba133-e754-4d5a-bc57-675b386d1f05   \n",
       "0  workload:cpu_usage_cores:sum  00479ead-b7fc-49c2-ae20-3990a9b3d08c   \n",
       "0  workload:cpu_usage_cores:sum  009ef697-17c5-431e-a5f5-42d93d9c6a5a   \n",
       "\n",
       "                 prometheus receive                             tenant_id  \\\n",
       "0  openshift-monitoring/k8s    true  FB870BF3-9F3A-44FF-9BF7-D7A047A52F43   \n",
       "0  openshift-monitoring/k8s    true  FB870BF3-9F3A-44FF-9BF7-D7A047A52F43   \n",
       "0  openshift-monitoring/k8s    true  FB870BF3-9F3A-44FF-9BF7-D7A047A52F43   \n",
       "0  openshift-monitoring/k8s    true  FB870BF3-9F3A-44FF-9BF7-D7A047A52F43   \n",
       "0  openshift-monitoring/k8s    true  FB870BF3-9F3A-44FF-9BF7-D7A047A52F43   \n",
       "\n",
       "    timestamp                  value  \n",
       "0  1620860062    0.03230751556666692  \n",
       "0  1620852056   0.030943035959259964  \n",
       "0  1620852942    0.23523091000370105  \n",
       "0  1620855643   0.029065674940740756  \n",
       "0  1620855709  0.0035705586481481486  "
      ]
     },
     "execution_count": 24,
     "metadata": {},
     "output_type": "execute_result"
    }
   ],
   "source": [
    "# listing the archive path\n",
    "cont_archive_path = containers_df.archive_path.unique()\n",
    "\n",
    "df_cont_cpu = pd.DataFrame()\n",
    "\n",
    "for path in tqdm(cont_archive_path[:]):\n",
    "    pos = path.split(\"/\")[-1].split(\".\")[0]\n",
    "    hours = int(pos[0:2])\n",
    "    mins = int(pos[2:4])\n",
    "    sec = int(pos[4:6])\n",
    "    cluster_pos = path.split(\"/\")[3]\n",
    "    ts = dt.datetime(\n",
    "        year=2021,\n",
    "        month=5,\n",
    "        day=12,\n",
    "        hour=hours,\n",
    "        minute=mins,\n",
    "        second=sec,\n",
    "        tzinfo=dt.timezone.utc,\n",
    "    )\n",
    "    df = MetricSnapshotDataFrame(\n",
    "        pc.custom_query(\n",
    "            f'workload:cpu_usage_cores:sum{{_id=\"{cluster_pos}\"}}',\n",
    "            params={\"time\": ts.timestamp()},\n",
    "        )\n",
    "    )\n",
    "\n",
    "    df_cont_cpu = df_cont_cpu.append(df)\n",
    "df_cont_cpu.head()"
   ]
  },
  {
   "cell_type": "code",
   "execution_count": 25,
   "id": "8b7c2e6d",
   "metadata": {
    "ExecuteTime": {
     "end_time": "2021-07-27T02:53:25.879593Z",
     "start_time": "2021-07-27T02:53:25.822676Z"
    }
   },
   "outputs": [
    {
     "name": "stdout",
     "output_type": "stream",
     "text": [
      "Total number of cluster_id in original image layer dataset : 2927\n",
      "Number of cluster_id for the extracted dataset : 1857\n",
      "Number of timestamps : 1798\n"
     ]
    }
   ],
   "source": [
    "print(\n",
    "    \"Total number of cluster_id in original image layer dataset :\",\n",
    "    containers_df.cluster_id.nunique(),\n",
    ")\n",
    "print(\"Number of cluster_id for the extracted dataset :\", df_cont_cpu._id.nunique())\n",
    "print(\"Number of timestamps :\", df_cont_cpu.timestamp.nunique())"
   ]
  },
  {
   "cell_type": "markdown",
   "id": "663c6aa3",
   "metadata": {},
   "source": [
    "For the metric,`workload:cpu_usage_cores:sum`, we observe that, out of 2927 cluster_id from the container dataset of insight operator workload. We could only extract the information for 1857 cluster_id, i.e, ~63.4% cluster_id from the telemetry database. "
   ]
  },
  {
   "cell_type": "markdown",
   "id": "0ed58f9d",
   "metadata": {
    "ExecuteTime": {
     "end_time": "2021-07-20T18:20:53.041474Z",
     "start_time": "2021-07-20T18:20:52.991443Z"
    }
   },
   "source": [
    "---"
   ]
  },
  {
   "cell_type": "markdown",
   "id": "a6966853",
   "metadata": {},
   "source": [
    "## Metric name: `workload:memory_usage_bytes:sum`"
   ]
  },
  {
   "cell_type": "code",
   "execution_count": 26,
   "id": "2d64e0ec",
   "metadata": {
    "ExecuteTime": {
     "end_time": "2021-07-27T02:54:01.033896Z",
     "start_time": "2021-07-27T02:53:25.880614Z"
    }
   },
   "outputs": [
    {
     "name": "stderr",
     "output_type": "stream",
     "text": [
      "100%|██████████| 2927/2927 [00:35<00:00, 83.29it/s] \n"
     ]
    },
    {
     "data": {
      "text/html": [
       "<div>\n",
       "<style scoped>\n",
       "    .dataframe tbody tr th:only-of-type {\n",
       "        vertical-align: middle;\n",
       "    }\n",
       "\n",
       "    .dataframe tbody tr th {\n",
       "        vertical-align: top;\n",
       "    }\n",
       "\n",
       "    .dataframe thead th {\n",
       "        text-align: right;\n",
       "    }\n",
       "</style>\n",
       "<table border=\"1\" class=\"dataframe\">\n",
       "  <thead>\n",
       "    <tr style=\"text-align: right;\">\n",
       "      <th></th>\n",
       "      <th>__name__</th>\n",
       "      <th>_id</th>\n",
       "      <th>prometheus</th>\n",
       "      <th>receive</th>\n",
       "      <th>tenant_id</th>\n",
       "      <th>timestamp</th>\n",
       "      <th>value</th>\n",
       "    </tr>\n",
       "  </thead>\n",
       "  <tbody>\n",
       "    <tr>\n",
       "      <th>0</th>\n",
       "      <td>workload:memory_usage_bytes:sum</td>\n",
       "      <td>00003d61-9db1-4757-9cd1-84df271daeb9</td>\n",
       "      <td>openshift-monitoring/k8s</td>\n",
       "      <td>true</td>\n",
       "      <td>FB870BF3-9F3A-44FF-9BF7-D7A047A52F43</td>\n",
       "      <td>1620860062</td>\n",
       "      <td>389971968</td>\n",
       "    </tr>\n",
       "    <tr>\n",
       "      <th>0</th>\n",
       "      <td>workload:memory_usage_bytes:sum</td>\n",
       "      <td>00351e6e-53ce-465e-9493-cf0cd2367049</td>\n",
       "      <td>openshift-monitoring/k8s</td>\n",
       "      <td>true</td>\n",
       "      <td>FB870BF3-9F3A-44FF-9BF7-D7A047A52F43</td>\n",
       "      <td>1620852056</td>\n",
       "      <td>385421312</td>\n",
       "    </tr>\n",
       "    <tr>\n",
       "      <th>0</th>\n",
       "      <td>workload:memory_usage_bytes:sum</td>\n",
       "      <td>003ba133-e754-4d5a-bc57-675b386d1f05</td>\n",
       "      <td>openshift-monitoring/k8s</td>\n",
       "      <td>true</td>\n",
       "      <td>FB870BF3-9F3A-44FF-9BF7-D7A047A52F43</td>\n",
       "      <td>1620852942</td>\n",
       "      <td>1190780928</td>\n",
       "    </tr>\n",
       "    <tr>\n",
       "      <th>0</th>\n",
       "      <td>workload:memory_usage_bytes:sum</td>\n",
       "      <td>00479ead-b7fc-49c2-ae20-3990a9b3d08c</td>\n",
       "      <td>openshift-monitoring/k8s</td>\n",
       "      <td>true</td>\n",
       "      <td>FB870BF3-9F3A-44FF-9BF7-D7A047A52F43</td>\n",
       "      <td>1620855643</td>\n",
       "      <td>269168640</td>\n",
       "    </tr>\n",
       "    <tr>\n",
       "      <th>0</th>\n",
       "      <td>workload:memory_usage_bytes:sum</td>\n",
       "      <td>009ef697-17c5-431e-a5f5-42d93d9c6a5a</td>\n",
       "      <td>openshift-monitoring/k8s</td>\n",
       "      <td>true</td>\n",
       "      <td>FB870BF3-9F3A-44FF-9BF7-D7A047A52F43</td>\n",
       "      <td>1620855709</td>\n",
       "      <td>83660800</td>\n",
       "    </tr>\n",
       "  </tbody>\n",
       "</table>\n",
       "</div>"
      ],
      "text/plain": [
       "                          __name__                                   _id  \\\n",
       "0  workload:memory_usage_bytes:sum  00003d61-9db1-4757-9cd1-84df271daeb9   \n",
       "0  workload:memory_usage_bytes:sum  00351e6e-53ce-465e-9493-cf0cd2367049   \n",
       "0  workload:memory_usage_bytes:sum  003ba133-e754-4d5a-bc57-675b386d1f05   \n",
       "0  workload:memory_usage_bytes:sum  00479ead-b7fc-49c2-ae20-3990a9b3d08c   \n",
       "0  workload:memory_usage_bytes:sum  009ef697-17c5-431e-a5f5-42d93d9c6a5a   \n",
       "\n",
       "                 prometheus receive                             tenant_id  \\\n",
       "0  openshift-monitoring/k8s    true  FB870BF3-9F3A-44FF-9BF7-D7A047A52F43   \n",
       "0  openshift-monitoring/k8s    true  FB870BF3-9F3A-44FF-9BF7-D7A047A52F43   \n",
       "0  openshift-monitoring/k8s    true  FB870BF3-9F3A-44FF-9BF7-D7A047A52F43   \n",
       "0  openshift-monitoring/k8s    true  FB870BF3-9F3A-44FF-9BF7-D7A047A52F43   \n",
       "0  openshift-monitoring/k8s    true  FB870BF3-9F3A-44FF-9BF7-D7A047A52F43   \n",
       "\n",
       "    timestamp       value  \n",
       "0  1620860062   389971968  \n",
       "0  1620852056   385421312  \n",
       "0  1620852942  1190780928  \n",
       "0  1620855643   269168640  \n",
       "0  1620855709    83660800  "
      ]
     },
     "execution_count": 26,
     "metadata": {},
     "output_type": "execute_result"
    }
   ],
   "source": [
    "df_cont_mem = pd.DataFrame()\n",
    "\n",
    "for path in tqdm(cont_archive_path[:]):\n",
    "    pos = path.split(\"/\")[-1].split(\".\")[0]\n",
    "    hours = int(pos[0:2])\n",
    "    mins = int(pos[2:4])\n",
    "    sec = int(pos[4:6])\n",
    "    cluster_pos = path.split(\"/\")[3]\n",
    "    ts = dt.datetime(\n",
    "        year=2021,\n",
    "        month=5,\n",
    "        day=12,\n",
    "        hour=hours,\n",
    "        minute=mins,\n",
    "        second=sec,\n",
    "        tzinfo=dt.timezone.utc,\n",
    "    )\n",
    "    df = MetricSnapshotDataFrame(\n",
    "        pc.custom_query(\n",
    "            f'workload:memory_usage_bytes:sum{{_id=\"{cluster_pos}\"}}',\n",
    "            params={\"time\": ts.timestamp()},\n",
    "        )\n",
    "    )\n",
    "\n",
    "    df_cont_mem = df_cont_mem.append(df)\n",
    "df_cont_mem.head()"
   ]
  },
  {
   "cell_type": "code",
   "execution_count": 27,
   "id": "1dfed055",
   "metadata": {
    "ExecuteTime": {
     "end_time": "2021-07-27T02:54:01.086951Z",
     "start_time": "2021-07-27T02:54:01.035021Z"
    }
   },
   "outputs": [
    {
     "name": "stdout",
     "output_type": "stream",
     "text": [
      "Total number of cluster_id in original image layer dataset : 2927\n",
      "Number of cluster_id for the extracted dataset : 1811\n",
      "Number of timestamps : 1755\n"
     ]
    }
   ],
   "source": [
    "print(\n",
    "    \"Total number of cluster_id in original image layer dataset :\",\n",
    "    containers_df.cluster_id.nunique(),\n",
    ")\n",
    "print(\"Number of cluster_id for the extracted dataset :\", df_cont_mem._id.nunique())\n",
    "print(\"Number of timestamps :\", df_cont_mem.timestamp.nunique())"
   ]
  },
  {
   "cell_type": "markdown",
   "id": "96759096",
   "metadata": {},
   "source": [
    "For the metric,`workload:memory_usage_bytes:sum`, we observe that, out of 2927 cluster_id from the container dataset of insight operator workload. We could only extract the information for 1811 cluster_id, i.e, ~61.8% cluster_id from the telemetry database. "
   ]
  },
  {
   "cell_type": "markdown",
   "id": "c3358f52",
   "metadata": {},
   "source": [
    "---"
   ]
  },
  {
   "cell_type": "markdown",
   "id": "20b20cb2",
   "metadata": {},
   "source": [
    "## Metric name: `openshift:cpu_usage_cores:sum`"
   ]
  },
  {
   "cell_type": "code",
   "execution_count": 28,
   "id": "8cf65b61",
   "metadata": {
    "ExecuteTime": {
     "end_time": "2021-07-27T02:54:44.994095Z",
     "start_time": "2021-07-27T02:54:01.087879Z"
    }
   },
   "outputs": [
    {
     "name": "stderr",
     "output_type": "stream",
     "text": [
      "100%|██████████| 2927/2927 [00:43<00:00, 66.68it/s]\n"
     ]
    },
    {
     "data": {
      "text/html": [
       "<div>\n",
       "<style scoped>\n",
       "    .dataframe tbody tr th:only-of-type {\n",
       "        vertical-align: middle;\n",
       "    }\n",
       "\n",
       "    .dataframe tbody tr th {\n",
       "        vertical-align: top;\n",
       "    }\n",
       "\n",
       "    .dataframe thead th {\n",
       "        text-align: right;\n",
       "    }\n",
       "</style>\n",
       "<table border=\"1\" class=\"dataframe\">\n",
       "  <thead>\n",
       "    <tr style=\"text-align: right;\">\n",
       "      <th></th>\n",
       "      <th>__name__</th>\n",
       "      <th>_id</th>\n",
       "      <th>prometheus</th>\n",
       "      <th>receive</th>\n",
       "      <th>tenant_id</th>\n",
       "      <th>timestamp</th>\n",
       "      <th>value</th>\n",
       "    </tr>\n",
       "  </thead>\n",
       "  <tbody>\n",
       "    <tr>\n",
       "      <th>0</th>\n",
       "      <td>openshift:cpu_usage_cores:sum</td>\n",
       "      <td>00003d61-9db1-4757-9cd1-84df271daeb9</td>\n",
       "      <td>openshift-monitoring/k8s</td>\n",
       "      <td>true</td>\n",
       "      <td>FB870BF3-9F3A-44FF-9BF7-D7A047A52F43</td>\n",
       "      <td>1620860062</td>\n",
       "      <td>1.9291393691359602</td>\n",
       "    </tr>\n",
       "    <tr>\n",
       "      <th>0</th>\n",
       "      <td>openshift:cpu_usage_cores:sum</td>\n",
       "      <td>00351e6e-53ce-465e-9493-cf0cd2367049</td>\n",
       "      <td>openshift-monitoring/k8s</td>\n",
       "      <td>true</td>\n",
       "      <td>FB870BF3-9F3A-44FF-9BF7-D7A047A52F43</td>\n",
       "      <td>1620852056</td>\n",
       "      <td>1.7056283926121354</td>\n",
       "    </tr>\n",
       "    <tr>\n",
       "      <th>0</th>\n",
       "      <td>openshift:cpu_usage_cores:sum</td>\n",
       "      <td>003ba133-e754-4d5a-bc57-675b386d1f05</td>\n",
       "      <td>openshift-monitoring/k8s</td>\n",
       "      <td>true</td>\n",
       "      <td>FB870BF3-9F3A-44FF-9BF7-D7A047A52F43</td>\n",
       "      <td>1620852942</td>\n",
       "      <td>2.5198167090408625</td>\n",
       "    </tr>\n",
       "    <tr>\n",
       "      <th>0</th>\n",
       "      <td>openshift:cpu_usage_cores:sum</td>\n",
       "      <td>00479ead-b7fc-49c2-ae20-3990a9b3d08c</td>\n",
       "      <td>openshift-monitoring/k8s</td>\n",
       "      <td>true</td>\n",
       "      <td>FB870BF3-9F3A-44FF-9BF7-D7A047A52F43</td>\n",
       "      <td>1620855643</td>\n",
       "      <td>1.6697914679164034</td>\n",
       "    </tr>\n",
       "    <tr>\n",
       "      <th>0</th>\n",
       "      <td>openshift:cpu_usage_cores:sum</td>\n",
       "      <td>009ef697-17c5-431e-a5f5-42d93d9c6a5a</td>\n",
       "      <td>openshift-monitoring/k8s</td>\n",
       "      <td>true</td>\n",
       "      <td>FB870BF3-9F3A-44FF-9BF7-D7A047A52F43</td>\n",
       "      <td>1620855709</td>\n",
       "      <td>3.497572298494714</td>\n",
       "    </tr>\n",
       "  </tbody>\n",
       "</table>\n",
       "</div>"
      ],
      "text/plain": [
       "                        __name__                                   _id  \\\n",
       "0  openshift:cpu_usage_cores:sum  00003d61-9db1-4757-9cd1-84df271daeb9   \n",
       "0  openshift:cpu_usage_cores:sum  00351e6e-53ce-465e-9493-cf0cd2367049   \n",
       "0  openshift:cpu_usage_cores:sum  003ba133-e754-4d5a-bc57-675b386d1f05   \n",
       "0  openshift:cpu_usage_cores:sum  00479ead-b7fc-49c2-ae20-3990a9b3d08c   \n",
       "0  openshift:cpu_usage_cores:sum  009ef697-17c5-431e-a5f5-42d93d9c6a5a   \n",
       "\n",
       "                 prometheus receive                             tenant_id  \\\n",
       "0  openshift-monitoring/k8s    true  FB870BF3-9F3A-44FF-9BF7-D7A047A52F43   \n",
       "0  openshift-monitoring/k8s    true  FB870BF3-9F3A-44FF-9BF7-D7A047A52F43   \n",
       "0  openshift-monitoring/k8s    true  FB870BF3-9F3A-44FF-9BF7-D7A047A52F43   \n",
       "0  openshift-monitoring/k8s    true  FB870BF3-9F3A-44FF-9BF7-D7A047A52F43   \n",
       "0  openshift-monitoring/k8s    true  FB870BF3-9F3A-44FF-9BF7-D7A047A52F43   \n",
       "\n",
       "    timestamp               value  \n",
       "0  1620860062  1.9291393691359602  \n",
       "0  1620852056  1.7056283926121354  \n",
       "0  1620852942  2.5198167090408625  \n",
       "0  1620855643  1.6697914679164034  \n",
       "0  1620855709   3.497572298494714  "
      ]
     },
     "execution_count": 28,
     "metadata": {},
     "output_type": "execute_result"
    }
   ],
   "source": [
    "df_cont_open_cpu = pd.DataFrame()\n",
    "\n",
    "for path in tqdm(cont_archive_path[:]):\n",
    "    pos = path.split(\"/\")[-1].split(\".\")[0]\n",
    "    hours = int(pos[0:2])\n",
    "    mins = int(pos[2:4])\n",
    "    sec = int(pos[4:6])\n",
    "    cluster_pos = path.split(\"/\")[3]\n",
    "    ts = dt.datetime(\n",
    "        year=2021,\n",
    "        month=5,\n",
    "        day=12,\n",
    "        hour=hours,\n",
    "        minute=mins,\n",
    "        second=sec,\n",
    "        tzinfo=dt.timezone.utc,\n",
    "    )\n",
    "    df = MetricSnapshotDataFrame(\n",
    "        pc.custom_query(\n",
    "            f'openshift:cpu_usage_cores:sum{{_id=\"{cluster_pos}\"}}',\n",
    "            params={\"time\": ts.timestamp()},\n",
    "        )\n",
    "    )\n",
    "    df_cont_open_cpu = df_cont_open_cpu.append(df)\n",
    "df_cont_open_cpu.head()"
   ]
  },
  {
   "cell_type": "code",
   "execution_count": 29,
   "id": "fec3bcd9",
   "metadata": {
    "ExecuteTime": {
     "end_time": "2021-07-27T02:54:45.044637Z",
     "start_time": "2021-07-27T02:54:44.995040Z"
    }
   },
   "outputs": [
    {
     "name": "stdout",
     "output_type": "stream",
     "text": [
      "Total number of cluster_id in original image layer dataset : 2927\n",
      "Number of cluster_id for the extracted dataset : 1852\n",
      "Number of timestamps : 1793\n"
     ]
    }
   ],
   "source": [
    "print(\n",
    "    \"Total number of cluster_id in original image layer dataset :\",\n",
    "    containers_df.cluster_id.nunique(),\n",
    ")\n",
    "print(\n",
    "    \"Number of cluster_id for the extracted dataset :\", df_cont_open_cpu._id.nunique()\n",
    ")\n",
    "print(\"Number of timestamps :\", df_cont_open_cpu.timestamp.nunique())"
   ]
  },
  {
   "cell_type": "markdown",
   "id": "328368a4",
   "metadata": {},
   "source": [
    "For the metric,`openshift:cpu_usage_cores:sum`, we observe that, out of 2927 cluster_id from the container dataset of insight operator workload. We could only extract the information for 1852 cluster_id, i.e, ~63.2% cluster_id from the telemetry database. "
   ]
  },
  {
   "cell_type": "markdown",
   "id": "548cc8da",
   "metadata": {},
   "source": [
    "---"
   ]
  },
  {
   "cell_type": "markdown",
   "id": "6fb3aecb",
   "metadata": {},
   "source": [
    "## Metric name: `openshift:memory_usage_bytes:sum`"
   ]
  },
  {
   "cell_type": "code",
   "execution_count": 30,
   "id": "4171dc2c",
   "metadata": {
    "ExecuteTime": {
     "end_time": "2021-07-27T02:55:36.586569Z",
     "start_time": "2021-07-27T02:54:45.045583Z"
    }
   },
   "outputs": [
    {
     "name": "stderr",
     "output_type": "stream",
     "text": [
      "100%|██████████| 2927/2927 [00:51<00:00, 56.81it/s]\n"
     ]
    },
    {
     "data": {
      "text/html": [
       "<div>\n",
       "<style scoped>\n",
       "    .dataframe tbody tr th:only-of-type {\n",
       "        vertical-align: middle;\n",
       "    }\n",
       "\n",
       "    .dataframe tbody tr th {\n",
       "        vertical-align: top;\n",
       "    }\n",
       "\n",
       "    .dataframe thead th {\n",
       "        text-align: right;\n",
       "    }\n",
       "</style>\n",
       "<table border=\"1\" class=\"dataframe\">\n",
       "  <thead>\n",
       "    <tr style=\"text-align: right;\">\n",
       "      <th></th>\n",
       "      <th>__name__</th>\n",
       "      <th>_id</th>\n",
       "      <th>prometheus</th>\n",
       "      <th>receive</th>\n",
       "      <th>tenant_id</th>\n",
       "      <th>timestamp</th>\n",
       "      <th>value</th>\n",
       "    </tr>\n",
       "  </thead>\n",
       "  <tbody>\n",
       "    <tr>\n",
       "      <th>0</th>\n",
       "      <td>openshift:memory_usage_bytes:sum</td>\n",
       "      <td>00003d61-9db1-4757-9cd1-84df271daeb9</td>\n",
       "      <td>openshift-monitoring/k8s</td>\n",
       "      <td>true</td>\n",
       "      <td>FB870BF3-9F3A-44FF-9BF7-D7A047A52F43</td>\n",
       "      <td>1620860062</td>\n",
       "      <td>14560608256</td>\n",
       "    </tr>\n",
       "    <tr>\n",
       "      <th>0</th>\n",
       "      <td>openshift:memory_usage_bytes:sum</td>\n",
       "      <td>00351e6e-53ce-465e-9493-cf0cd2367049</td>\n",
       "      <td>openshift-monitoring/k8s</td>\n",
       "      <td>true</td>\n",
       "      <td>FB870BF3-9F3A-44FF-9BF7-D7A047A52F43</td>\n",
       "      <td>1620852056</td>\n",
       "      <td>14386823168</td>\n",
       "    </tr>\n",
       "    <tr>\n",
       "      <th>0</th>\n",
       "      <td>openshift:memory_usage_bytes:sum</td>\n",
       "      <td>003ba133-e754-4d5a-bc57-675b386d1f05</td>\n",
       "      <td>openshift-monitoring/k8s</td>\n",
       "      <td>true</td>\n",
       "      <td>FB870BF3-9F3A-44FF-9BF7-D7A047A52F43</td>\n",
       "      <td>1620852942</td>\n",
       "      <td>26840170496</td>\n",
       "    </tr>\n",
       "    <tr>\n",
       "      <th>0</th>\n",
       "      <td>openshift:memory_usage_bytes:sum</td>\n",
       "      <td>00479ead-b7fc-49c2-ae20-3990a9b3d08c</td>\n",
       "      <td>openshift-monitoring/k8s</td>\n",
       "      <td>true</td>\n",
       "      <td>FB870BF3-9F3A-44FF-9BF7-D7A047A52F43</td>\n",
       "      <td>1620855643</td>\n",
       "      <td>13228613632</td>\n",
       "    </tr>\n",
       "    <tr>\n",
       "      <th>0</th>\n",
       "      <td>openshift:memory_usage_bytes:sum</td>\n",
       "      <td>009ef697-17c5-431e-a5f5-42d93d9c6a5a</td>\n",
       "      <td>openshift-monitoring/k8s</td>\n",
       "      <td>true</td>\n",
       "      <td>FB870BF3-9F3A-44FF-9BF7-D7A047A52F43</td>\n",
       "      <td>1620855709</td>\n",
       "      <td>26006728704</td>\n",
       "    </tr>\n",
       "  </tbody>\n",
       "</table>\n",
       "</div>"
      ],
      "text/plain": [
       "                           __name__                                   _id  \\\n",
       "0  openshift:memory_usage_bytes:sum  00003d61-9db1-4757-9cd1-84df271daeb9   \n",
       "0  openshift:memory_usage_bytes:sum  00351e6e-53ce-465e-9493-cf0cd2367049   \n",
       "0  openshift:memory_usage_bytes:sum  003ba133-e754-4d5a-bc57-675b386d1f05   \n",
       "0  openshift:memory_usage_bytes:sum  00479ead-b7fc-49c2-ae20-3990a9b3d08c   \n",
       "0  openshift:memory_usage_bytes:sum  009ef697-17c5-431e-a5f5-42d93d9c6a5a   \n",
       "\n",
       "                 prometheus receive                             tenant_id  \\\n",
       "0  openshift-monitoring/k8s    true  FB870BF3-9F3A-44FF-9BF7-D7A047A52F43   \n",
       "0  openshift-monitoring/k8s    true  FB870BF3-9F3A-44FF-9BF7-D7A047A52F43   \n",
       "0  openshift-monitoring/k8s    true  FB870BF3-9F3A-44FF-9BF7-D7A047A52F43   \n",
       "0  openshift-monitoring/k8s    true  FB870BF3-9F3A-44FF-9BF7-D7A047A52F43   \n",
       "0  openshift-monitoring/k8s    true  FB870BF3-9F3A-44FF-9BF7-D7A047A52F43   \n",
       "\n",
       "    timestamp        value  \n",
       "0  1620860062  14560608256  \n",
       "0  1620852056  14386823168  \n",
       "0  1620852942  26840170496  \n",
       "0  1620855643  13228613632  \n",
       "0  1620855709  26006728704  "
      ]
     },
     "execution_count": 30,
     "metadata": {},
     "output_type": "execute_result"
    }
   ],
   "source": [
    "df_cont_open_mem = pd.DataFrame()\n",
    "\n",
    "for path in tqdm(cont_archive_path[:]):\n",
    "    pos = path.split(\"/\")[-1].split(\".\")[0]\n",
    "    hours = int(pos[0:2])\n",
    "    mins = int(pos[2:4])\n",
    "    sec = int(pos[4:6])\n",
    "    cluster_pos = path.split(\"/\")[3]\n",
    "    ts = dt.datetime(\n",
    "        year=2021,\n",
    "        month=5,\n",
    "        day=12,\n",
    "        hour=hours,\n",
    "        minute=mins,\n",
    "        second=sec,\n",
    "        tzinfo=dt.timezone.utc,\n",
    "    )\n",
    "    df = MetricSnapshotDataFrame(\n",
    "        pc.custom_query(\n",
    "            f'openshift:memory_usage_bytes:sum{{_id=\"{cluster_pos}\"}}',\n",
    "            params={\"time\": ts.timestamp()},\n",
    "        )\n",
    "    )\n",
    "    df_cont_open_mem = df_cont_open_mem.append(df)\n",
    "df_cont_open_mem.head()"
   ]
  },
  {
   "cell_type": "code",
   "execution_count": 31,
   "id": "3ec03f91",
   "metadata": {
    "ExecuteTime": {
     "end_time": "2021-07-27T02:55:36.638894Z",
     "start_time": "2021-07-27T02:55:36.587833Z"
    }
   },
   "outputs": [
    {
     "name": "stdout",
     "output_type": "stream",
     "text": [
      "Total number of cluster_id in original image layer dataset : 2927\n",
      "Number of cluster_id for the extracted dataset : 1811\n",
      "Number of timestamps : 1755\n"
     ]
    }
   ],
   "source": [
    "print(\n",
    "    \"Total number of cluster_id in original image layer dataset :\",\n",
    "    containers_df.cluster_id.nunique(),\n",
    ")\n",
    "print(\n",
    "    \"Number of cluster_id for the extracted dataset :\", df_cont_open_mem._id.nunique()\n",
    ")\n",
    "print(\"Number of timestamps :\", df_cont_open_mem.timestamp.nunique())"
   ]
  },
  {
   "cell_type": "markdown",
   "id": "e4f434bc",
   "metadata": {},
   "source": [
    "For the metric,`openshift:memory_usage_bytes:sum`, we observe that, out of 2927 cluster_id from the container dataset of insight operator workload. We could only extract the information for 1811 cluster_id, i.e, ~61.8% cluster_id from the telemetry database. "
   ]
  },
  {
   "cell_type": "markdown",
   "id": "66a99f2f",
   "metadata": {},
   "source": [
    "---"
   ]
  },
  {
   "cell_type": "markdown",
   "id": "03810303",
   "metadata": {},
   "source": [
    "## Metric name: `cluster:cpu_usage_cores:sum`"
   ]
  },
  {
   "cell_type": "code",
   "execution_count": 32,
   "id": "1b3c7886",
   "metadata": {
    "ExecuteTime": {
     "end_time": "2021-07-27T02:56:36.661618Z",
     "start_time": "2021-07-27T02:55:36.640131Z"
    }
   },
   "outputs": [
    {
     "name": "stderr",
     "output_type": "stream",
     "text": [
      "100%|██████████| 2927/2927 [01:00<00:00, 48.78it/s]\n"
     ]
    },
    {
     "data": {
      "text/html": [
       "<div>\n",
       "<style scoped>\n",
       "    .dataframe tbody tr th:only-of-type {\n",
       "        vertical-align: middle;\n",
       "    }\n",
       "\n",
       "    .dataframe tbody tr th {\n",
       "        vertical-align: top;\n",
       "    }\n",
       "\n",
       "    .dataframe thead th {\n",
       "        text-align: right;\n",
       "    }\n",
       "</style>\n",
       "<table border=\"1\" class=\"dataframe\">\n",
       "  <thead>\n",
       "    <tr style=\"text-align: right;\">\n",
       "      <th></th>\n",
       "      <th>__name__</th>\n",
       "      <th>_id</th>\n",
       "      <th>prometheus</th>\n",
       "      <th>receive</th>\n",
       "      <th>tenant_id</th>\n",
       "      <th>timestamp</th>\n",
       "      <th>value</th>\n",
       "    </tr>\n",
       "  </thead>\n",
       "  <tbody>\n",
       "    <tr>\n",
       "      <th>0</th>\n",
       "      <td>cluster:cpu_usage_cores:sum</td>\n",
       "      <td>00003d61-9db1-4757-9cd1-84df271daeb9</td>\n",
       "      <td>openshift-monitoring/k8s</td>\n",
       "      <td>true</td>\n",
       "      <td>FB870BF3-9F3A-44FF-9BF7-D7A047A52F43</td>\n",
       "      <td>1620860062</td>\n",
       "      <td>1.9614468847026272</td>\n",
       "    </tr>\n",
       "    <tr>\n",
       "      <th>0</th>\n",
       "      <td>cluster:cpu_usage_cores:sum</td>\n",
       "      <td>002663ad-bcf4-4c7c-9530-ecb351fe4001</td>\n",
       "      <td>openshift-monitoring/k8s</td>\n",
       "      <td>true</td>\n",
       "      <td>FB870BF3-9F3A-44FF-9BF7-D7A047A52F43</td>\n",
       "      <td>1620825377</td>\n",
       "      <td>4.345714285714284</td>\n",
       "    </tr>\n",
       "    <tr>\n",
       "      <th>0</th>\n",
       "      <td>cluster:cpu_usage_cores:sum</td>\n",
       "      <td>0030e092-3def-4e7a-96b7-17d45ca102fd</td>\n",
       "      <td>openshift-monitoring/k8s</td>\n",
       "      <td>true</td>\n",
       "      <td>FB870BF3-9F3A-44FF-9BF7-D7A047A52F43</td>\n",
       "      <td>1620812523</td>\n",
       "      <td>11.39365149650794</td>\n",
       "    </tr>\n",
       "    <tr>\n",
       "      <th>0</th>\n",
       "      <td>cluster:cpu_usage_cores:sum</td>\n",
       "      <td>00351e6e-53ce-465e-9493-cf0cd2367049</td>\n",
       "      <td>openshift-monitoring/k8s</td>\n",
       "      <td>true</td>\n",
       "      <td>FB870BF3-9F3A-44FF-9BF7-D7A047A52F43</td>\n",
       "      <td>1620852056</td>\n",
       "      <td>1.7365714285713953</td>\n",
       "    </tr>\n",
       "    <tr>\n",
       "      <th>0</th>\n",
       "      <td>cluster:cpu_usage_cores:sum</td>\n",
       "      <td>003ba133-e754-4d5a-bc57-675b386d1f05</td>\n",
       "      <td>openshift-monitoring/k8s</td>\n",
       "      <td>true</td>\n",
       "      <td>FB870BF3-9F3A-44FF-9BF7-D7A047A52F43</td>\n",
       "      <td>1620852942</td>\n",
       "      <td>2.7550476190445634</td>\n",
       "    </tr>\n",
       "  </tbody>\n",
       "</table>\n",
       "</div>"
      ],
      "text/plain": [
       "                      __name__                                   _id  \\\n",
       "0  cluster:cpu_usage_cores:sum  00003d61-9db1-4757-9cd1-84df271daeb9   \n",
       "0  cluster:cpu_usage_cores:sum  002663ad-bcf4-4c7c-9530-ecb351fe4001   \n",
       "0  cluster:cpu_usage_cores:sum  0030e092-3def-4e7a-96b7-17d45ca102fd   \n",
       "0  cluster:cpu_usage_cores:sum  00351e6e-53ce-465e-9493-cf0cd2367049   \n",
       "0  cluster:cpu_usage_cores:sum  003ba133-e754-4d5a-bc57-675b386d1f05   \n",
       "\n",
       "                 prometheus receive                             tenant_id  \\\n",
       "0  openshift-monitoring/k8s    true  FB870BF3-9F3A-44FF-9BF7-D7A047A52F43   \n",
       "0  openshift-monitoring/k8s    true  FB870BF3-9F3A-44FF-9BF7-D7A047A52F43   \n",
       "0  openshift-monitoring/k8s    true  FB870BF3-9F3A-44FF-9BF7-D7A047A52F43   \n",
       "0  openshift-monitoring/k8s    true  FB870BF3-9F3A-44FF-9BF7-D7A047A52F43   \n",
       "0  openshift-monitoring/k8s    true  FB870BF3-9F3A-44FF-9BF7-D7A047A52F43   \n",
       "\n",
       "    timestamp               value  \n",
       "0  1620860062  1.9614468847026272  \n",
       "0  1620825377   4.345714285714284  \n",
       "0  1620812523   11.39365149650794  \n",
       "0  1620852056  1.7365714285713953  \n",
       "0  1620852942  2.7550476190445634  "
      ]
     },
     "execution_count": 32,
     "metadata": {},
     "output_type": "execute_result"
    }
   ],
   "source": [
    "df_cont_cluster_cpu = pd.DataFrame()\n",
    "\n",
    "for path in tqdm(cont_archive_path[:]):\n",
    "    pos = path.split(\"/\")[-1].split(\".\")[0]\n",
    "    hours = int(pos[0:2])\n",
    "    mins = int(pos[2:4])\n",
    "    sec = int(pos[4:6])\n",
    "    cluster_pos = path.split(\"/\")[3]\n",
    "    ts = dt.datetime(\n",
    "        year=2021,\n",
    "        month=5,\n",
    "        day=12,\n",
    "        hour=hours,\n",
    "        minute=mins,\n",
    "        second=sec,\n",
    "        tzinfo=dt.timezone.utc,\n",
    "    )\n",
    "    df = MetricSnapshotDataFrame(\n",
    "        pc.custom_query(\n",
    "            f'cluster:cpu_usage_cores:sum{{_id=\"{cluster_pos}\"}}',\n",
    "            params={\"time\": ts.timestamp()},\n",
    "        )\n",
    "    )\n",
    "    df_cont_cluster_cpu = df_cont_cluster_cpu.append(df)\n",
    "df_cont_cluster_cpu.head()"
   ]
  },
  {
   "cell_type": "code",
   "execution_count": 33,
   "id": "53c815c5",
   "metadata": {
    "ExecuteTime": {
     "end_time": "2021-07-27T02:56:36.713874Z",
     "start_time": "2021-07-27T02:56:36.662564Z"
    }
   },
   "outputs": [
    {
     "name": "stdout",
     "output_type": "stream",
     "text": [
      "Total number of cluster_id in original image layer dataset : 2927\n",
      "Number of cluster_id for the extracted dataset : 2649\n",
      "Number of timestamps : 2560\n"
     ]
    }
   ],
   "source": [
    "print(\n",
    "    \"Total number of cluster_id in original image layer dataset :\",\n",
    "    containers_df.cluster_id.nunique(),\n",
    ")\n",
    "print(\n",
    "    \"Number of cluster_id for the extracted dataset :\",\n",
    "    df_cont_cluster_cpu._id.nunique(),\n",
    ")\n",
    "print(\"Number of timestamps :\", df_cont_cluster_cpu.timestamp.nunique())"
   ]
  },
  {
   "cell_type": "markdown",
   "id": "77013f77",
   "metadata": {},
   "source": [
    "For the metric,`cluster:cpu_usage_cores:sum`, we observe that, out of 2927 cluster_id from the container dataset of insight operator workload. We could only extract the information for 2649 cluster_id, i.e, ~90.5% cluster_id from the telemetry database."
   ]
  },
  {
   "cell_type": "markdown",
   "id": "e4138a0d",
   "metadata": {},
   "source": [
    "---"
   ]
  },
  {
   "cell_type": "markdown",
   "id": "f894f724",
   "metadata": {},
   "source": [
    "## Metric name: `cluster:memory_usage_bytes:sum`"
   ]
  },
  {
   "cell_type": "code",
   "execution_count": 34,
   "id": "bb015743",
   "metadata": {
    "ExecuteTime": {
     "end_time": "2021-07-27T02:57:27.295169Z",
     "start_time": "2021-07-27T02:56:36.714843Z"
    }
   },
   "outputs": [
    {
     "name": "stderr",
     "output_type": "stream",
     "text": [
      "100%|██████████| 2927/2927 [00:50<00:00, 57.88it/s]\n"
     ]
    },
    {
     "data": {
      "text/html": [
       "<div>\n",
       "<style scoped>\n",
       "    .dataframe tbody tr th:only-of-type {\n",
       "        vertical-align: middle;\n",
       "    }\n",
       "\n",
       "    .dataframe tbody tr th {\n",
       "        vertical-align: top;\n",
       "    }\n",
       "\n",
       "    .dataframe thead th {\n",
       "        text-align: right;\n",
       "    }\n",
       "</style>\n",
       "<table border=\"1\" class=\"dataframe\">\n",
       "  <thead>\n",
       "    <tr style=\"text-align: right;\">\n",
       "      <th></th>\n",
       "      <th>__name__</th>\n",
       "      <th>_id</th>\n",
       "      <th>prometheus</th>\n",
       "      <th>receive</th>\n",
       "      <th>tenant_id</th>\n",
       "      <th>timestamp</th>\n",
       "      <th>value</th>\n",
       "    </tr>\n",
       "  </thead>\n",
       "  <tbody>\n",
       "    <tr>\n",
       "      <th>0</th>\n",
       "      <td>cluster:memory_usage_bytes:sum</td>\n",
       "      <td>00003d61-9db1-4757-9cd1-84df271daeb9</td>\n",
       "      <td>openshift-monitoring/k8s</td>\n",
       "      <td>true</td>\n",
       "      <td>FB870BF3-9F3A-44FF-9BF7-D7A047A52F43</td>\n",
       "      <td>1620860062</td>\n",
       "      <td>14950580224</td>\n",
       "    </tr>\n",
       "    <tr>\n",
       "      <th>0</th>\n",
       "      <td>cluster:memory_usage_bytes:sum</td>\n",
       "      <td>002663ad-bcf4-4c7c-9530-ecb351fe4001</td>\n",
       "      <td>openshift-monitoring/k8s</td>\n",
       "      <td>true</td>\n",
       "      <td>FB870BF3-9F3A-44FF-9BF7-D7A047A52F43</td>\n",
       "      <td>1620825377</td>\n",
       "      <td>25248690176</td>\n",
       "    </tr>\n",
       "    <tr>\n",
       "      <th>0</th>\n",
       "      <td>cluster:memory_usage_bytes:sum</td>\n",
       "      <td>0030e092-3def-4e7a-96b7-17d45ca102fd</td>\n",
       "      <td>openshift-monitoring/k8s</td>\n",
       "      <td>true</td>\n",
       "      <td>FB870BF3-9F3A-44FF-9BF7-D7A047A52F43</td>\n",
       "      <td>1620812523</td>\n",
       "      <td>29709115392</td>\n",
       "    </tr>\n",
       "    <tr>\n",
       "      <th>0</th>\n",
       "      <td>cluster:memory_usage_bytes:sum</td>\n",
       "      <td>00351e6e-53ce-465e-9493-cf0cd2367049</td>\n",
       "      <td>openshift-monitoring/k8s</td>\n",
       "      <td>true</td>\n",
       "      <td>FB870BF3-9F3A-44FF-9BF7-D7A047A52F43</td>\n",
       "      <td>1620852056</td>\n",
       "      <td>14772244480</td>\n",
       "    </tr>\n",
       "    <tr>\n",
       "      <th>0</th>\n",
       "      <td>cluster:memory_usage_bytes:sum</td>\n",
       "      <td>003ba133-e754-4d5a-bc57-675b386d1f05</td>\n",
       "      <td>openshift-monitoring/k8s</td>\n",
       "      <td>true</td>\n",
       "      <td>FB870BF3-9F3A-44FF-9BF7-D7A047A52F43</td>\n",
       "      <td>1620852942</td>\n",
       "      <td>28030951424</td>\n",
       "    </tr>\n",
       "  </tbody>\n",
       "</table>\n",
       "</div>"
      ],
      "text/plain": [
       "                         __name__                                   _id  \\\n",
       "0  cluster:memory_usage_bytes:sum  00003d61-9db1-4757-9cd1-84df271daeb9   \n",
       "0  cluster:memory_usage_bytes:sum  002663ad-bcf4-4c7c-9530-ecb351fe4001   \n",
       "0  cluster:memory_usage_bytes:sum  0030e092-3def-4e7a-96b7-17d45ca102fd   \n",
       "0  cluster:memory_usage_bytes:sum  00351e6e-53ce-465e-9493-cf0cd2367049   \n",
       "0  cluster:memory_usage_bytes:sum  003ba133-e754-4d5a-bc57-675b386d1f05   \n",
       "\n",
       "                 prometheus receive                             tenant_id  \\\n",
       "0  openshift-monitoring/k8s    true  FB870BF3-9F3A-44FF-9BF7-D7A047A52F43   \n",
       "0  openshift-monitoring/k8s    true  FB870BF3-9F3A-44FF-9BF7-D7A047A52F43   \n",
       "0  openshift-monitoring/k8s    true  FB870BF3-9F3A-44FF-9BF7-D7A047A52F43   \n",
       "0  openshift-monitoring/k8s    true  FB870BF3-9F3A-44FF-9BF7-D7A047A52F43   \n",
       "0  openshift-monitoring/k8s    true  FB870BF3-9F3A-44FF-9BF7-D7A047A52F43   \n",
       "\n",
       "    timestamp        value  \n",
       "0  1620860062  14950580224  \n",
       "0  1620825377  25248690176  \n",
       "0  1620812523  29709115392  \n",
       "0  1620852056  14772244480  \n",
       "0  1620852942  28030951424  "
      ]
     },
     "execution_count": 34,
     "metadata": {},
     "output_type": "execute_result"
    }
   ],
   "source": [
    "df_cont_cluster_mem = pd.DataFrame()\n",
    "\n",
    "for path in tqdm(cont_archive_path[:]):\n",
    "    pos = path.split(\"/\")[-1].split(\".\")[0]\n",
    "    hours = int(pos[0:2])\n",
    "    mins = int(pos[2:4])\n",
    "    sec = int(pos[4:6])\n",
    "    cluster_pos = path.split(\"/\")[3]\n",
    "    ts = dt.datetime(\n",
    "        year=2021,\n",
    "        month=5,\n",
    "        day=12,\n",
    "        hour=hours,\n",
    "        minute=mins,\n",
    "        second=sec,\n",
    "        tzinfo=dt.timezone.utc,\n",
    "    )\n",
    "    df = MetricSnapshotDataFrame(\n",
    "        pc.custom_query(\n",
    "            f'cluster:memory_usage_bytes:sum{{_id=\"{cluster_pos}\"}}',\n",
    "            params={\"time\": ts.timestamp()},\n",
    "        )\n",
    "    )\n",
    "    df_cont_cluster_mem = df_cont_cluster_mem.append(df)\n",
    "df_cont_cluster_mem.head()"
   ]
  },
  {
   "cell_type": "code",
   "execution_count": 35,
   "id": "be9b9618",
   "metadata": {
    "ExecuteTime": {
     "end_time": "2021-07-27T02:57:27.348382Z",
     "start_time": "2021-07-27T02:57:27.296239Z"
    }
   },
   "outputs": [
    {
     "name": "stdout",
     "output_type": "stream",
     "text": [
      "Total number of cluster_id in original image layer dataset : 2927\n",
      "Number of cluster_id for the extracted dataset : 2697\n",
      "Number of timestamps : 2605\n"
     ]
    }
   ],
   "source": [
    "print(\n",
    "    \"Total number of cluster_id in original image layer dataset :\",\n",
    "    containers_df.cluster_id.nunique(),\n",
    ")\n",
    "print(\n",
    "    \"Number of cluster_id for the extracted dataset :\",\n",
    "    df_cont_cluster_mem._id.nunique(),\n",
    ")\n",
    "print(\"Number of timestamps :\", df_cont_cluster_mem.timestamp.nunique())"
   ]
  },
  {
   "cell_type": "markdown",
   "id": "02bf6153",
   "metadata": {},
   "source": [
    "For the metric,`cluster:memory_usage_bytes:sum`, we observe that, out of 2927 cluster_id from the container dataset of insight operator workload. We could only extract the information for 2697 cluster_id, i.e, ~92.1% cluster_id from the telemetry database."
   ]
  },
  {
   "cell_type": "markdown",
   "id": "2ca195ee",
   "metadata": {},
   "source": [
    "In the next section, we will merge do the `outer` merging for all the six datasets above. But first, since we have the common name for `value` column, we will rename them respectively. "
   ]
  },
  {
   "cell_type": "markdown",
   "id": "64a32cb2",
   "metadata": {},
   "source": [
    "## Merging Datasets"
   ]
  },
  {
   "cell_type": "markdown",
   "id": "e445ce0b",
   "metadata": {},
   "source": [
    "**Renaming the value column for respective datasets:**"
   ]
  },
  {
   "cell_type": "code",
   "execution_count": 36,
   "id": "535158f7",
   "metadata": {
    "ExecuteTime": {
     "end_time": "2021-07-27T02:57:27.353329Z",
     "start_time": "2021-07-27T02:57:27.349334Z"
    }
   },
   "outputs": [],
   "source": [
    "df_cont_cpu.rename(\n",
    "    columns={\"value\": \"value_workload:cpu_usage_cores:sum\"}, inplace=True\n",
    ")\n",
    "\n",
    "df_cont_mem.rename(\n",
    "    columns={\"value\": \"value_workload:memory_usage_bytes:sum\"}, inplace=True\n",
    ")\n",
    "\n",
    "df_cont_open_cpu.rename(\n",
    "    columns={\"value\": \"value_openshift:cpu_usage_cores:sum\"}, inplace=True\n",
    ")\n",
    "\n",
    "df_cont_open_mem.rename(\n",
    "    columns={\"value\": \"value_openshift:memory_usage_bytes:sum\"}, inplace=True\n",
    ")\n",
    "\n",
    "df_cont_cluster_cpu.rename(\n",
    "    columns={\"value\": \"value_cluster:cpu_usage_cores:sum\"}, inplace=True\n",
    ")\n",
    "\n",
    "df_cont_cluster_mem.rename(\n",
    "    columns={\"value\": \"value_cluster:memory_usage_bytes:sum\"}, inplace=True\n",
    ")"
   ]
  },
  {
   "cell_type": "code",
   "execution_count": 37,
   "id": "0dfd370f",
   "metadata": {
    "ExecuteTime": {
     "end_time": "2021-07-27T02:57:27.384532Z",
     "start_time": "2021-07-27T02:57:27.354224Z"
    }
   },
   "outputs": [],
   "source": [
    "# Arranging the dataset for merging\n",
    "df_cont_cpu_merge = df_cont_cpu[\n",
    "    [\"_id\", \"timestamp\", \"value_workload:cpu_usage_cores:sum\"]\n",
    "]\n",
    "df_cont_mem_merge = df_cont_mem[\n",
    "    [\"_id\", \"timestamp\", \"value_workload:memory_usage_bytes:sum\"]\n",
    "]\n",
    "df_cont_open_cpu_merge = df_cont_open_cpu[\n",
    "    [\"_id\", \"timestamp\", \"value_openshift:cpu_usage_cores:sum\"]\n",
    "]\n",
    "df_cont_open_mem_merge = df_cont_open_mem[\n",
    "    [\"_id\", \"timestamp\", \"value_openshift:memory_usage_bytes:sum\"]\n",
    "]\n",
    "df_cont_cluster_cpu_merge = df_cont_cluster_cpu[\n",
    "    [\"_id\", \"timestamp\", \"value_cluster:cpu_usage_cores:sum\"]\n",
    "]\n",
    "df_cont_cluster_mem_merge = df_cont_cluster_mem[\n",
    "    [\"_id\", \"timestamp\", \"value_cluster:memory_usage_bytes:sum\"]\n",
    "]\n",
    "\n",
    "# Merging\n",
    "merge1 = pd.merge(\n",
    "    df_cont_cpu_merge, df_cont_mem_merge, on=[\"_id\", \"timestamp\"], how=\"outer\"\n",
    ")\n",
    "merge2 = pd.merge(merge1, df_cont_open_cpu_merge, on=[\"_id\", \"timestamp\"], how=\"outer\")\n",
    "merge3 = pd.merge(merge2, df_cont_open_mem_merge, on=[\"_id\", \"timestamp\"], how=\"outer\")\n",
    "merge4 = pd.merge(\n",
    "    merge3, df_cont_cluster_cpu_merge, on=[\"_id\", \"timestamp\"], how=\"outer\"\n",
    ")\n",
    "telemeter_cont_data = pd.merge(\n",
    "    merge4, df_cont_cluster_mem_merge, on=[\"_id\", \"timestamp\"], how=\"outer\"\n",
    ")"
   ]
  },
  {
   "cell_type": "code",
   "execution_count": 38,
   "id": "0edb5a1b",
   "metadata": {
    "ExecuteTime": {
     "end_time": "2021-07-27T02:57:27.392358Z",
     "start_time": "2021-07-27T02:57:27.385459Z"
    }
   },
   "outputs": [
    {
     "data": {
      "text/html": [
       "<div>\n",
       "<style scoped>\n",
       "    .dataframe tbody tr th:only-of-type {\n",
       "        vertical-align: middle;\n",
       "    }\n",
       "\n",
       "    .dataframe tbody tr th {\n",
       "        vertical-align: top;\n",
       "    }\n",
       "\n",
       "    .dataframe thead th {\n",
       "        text-align: right;\n",
       "    }\n",
       "</style>\n",
       "<table border=\"1\" class=\"dataframe\">\n",
       "  <thead>\n",
       "    <tr style=\"text-align: right;\">\n",
       "      <th></th>\n",
       "      <th>_id</th>\n",
       "      <th>timestamp</th>\n",
       "      <th>value_workload:cpu_usage_cores:sum</th>\n",
       "      <th>value_workload:memory_usage_bytes:sum</th>\n",
       "      <th>value_openshift:cpu_usage_cores:sum</th>\n",
       "      <th>value_openshift:memory_usage_bytes:sum</th>\n",
       "      <th>value_cluster:cpu_usage_cores:sum</th>\n",
       "      <th>value_cluster:memory_usage_bytes:sum</th>\n",
       "    </tr>\n",
       "  </thead>\n",
       "  <tbody>\n",
       "    <tr>\n",
       "      <th>0</th>\n",
       "      <td>00003d61-9db1-4757-9cd1-84df271daeb9</td>\n",
       "      <td>1620860062</td>\n",
       "      <td>0.03230751556666692</td>\n",
       "      <td>389971968</td>\n",
       "      <td>1.9291393691359602</td>\n",
       "      <td>14560608256</td>\n",
       "      <td>1.9614468847026272</td>\n",
       "      <td>14950580224</td>\n",
       "    </tr>\n",
       "    <tr>\n",
       "      <th>1</th>\n",
       "      <td>00351e6e-53ce-465e-9493-cf0cd2367049</td>\n",
       "      <td>1620852056</td>\n",
       "      <td>0.030943035959259964</td>\n",
       "      <td>385421312</td>\n",
       "      <td>1.7056283926121354</td>\n",
       "      <td>14386823168</td>\n",
       "      <td>1.7365714285713953</td>\n",
       "      <td>14772244480</td>\n",
       "    </tr>\n",
       "    <tr>\n",
       "      <th>2</th>\n",
       "      <td>003ba133-e754-4d5a-bc57-675b386d1f05</td>\n",
       "      <td>1620852942</td>\n",
       "      <td>0.23523091000370105</td>\n",
       "      <td>1190780928</td>\n",
       "      <td>2.5198167090408625</td>\n",
       "      <td>26840170496</td>\n",
       "      <td>2.7550476190445634</td>\n",
       "      <td>28030951424</td>\n",
       "    </tr>\n",
       "    <tr>\n",
       "      <th>3</th>\n",
       "      <td>00479ead-b7fc-49c2-ae20-3990a9b3d08c</td>\n",
       "      <td>1620855643</td>\n",
       "      <td>0.029065674940740756</td>\n",
       "      <td>269168640</td>\n",
       "      <td>1.6697914679164034</td>\n",
       "      <td>13228613632</td>\n",
       "      <td>1.6988571428571442</td>\n",
       "      <td>13497782272</td>\n",
       "    </tr>\n",
       "    <tr>\n",
       "      <th>4</th>\n",
       "      <td>009ef697-17c5-431e-a5f5-42d93d9c6a5a</td>\n",
       "      <td>1620855709</td>\n",
       "      <td>0.0035705586481481486</td>\n",
       "      <td>83660800</td>\n",
       "      <td>3.497572298494714</td>\n",
       "      <td>26006728704</td>\n",
       "      <td>3.501142857142862</td>\n",
       "      <td>26090389504</td>\n",
       "    </tr>\n",
       "  </tbody>\n",
       "</table>\n",
       "</div>"
      ],
      "text/plain": [
       "                                    _id   timestamp  \\\n",
       "0  00003d61-9db1-4757-9cd1-84df271daeb9  1620860062   \n",
       "1  00351e6e-53ce-465e-9493-cf0cd2367049  1620852056   \n",
       "2  003ba133-e754-4d5a-bc57-675b386d1f05  1620852942   \n",
       "3  00479ead-b7fc-49c2-ae20-3990a9b3d08c  1620855643   \n",
       "4  009ef697-17c5-431e-a5f5-42d93d9c6a5a  1620855709   \n",
       "\n",
       "  value_workload:cpu_usage_cores:sum value_workload:memory_usage_bytes:sum  \\\n",
       "0                0.03230751556666692                             389971968   \n",
       "1               0.030943035959259964                             385421312   \n",
       "2                0.23523091000370105                            1190780928   \n",
       "3               0.029065674940740756                             269168640   \n",
       "4              0.0035705586481481486                              83660800   \n",
       "\n",
       "  value_openshift:cpu_usage_cores:sum value_openshift:memory_usage_bytes:sum  \\\n",
       "0                  1.9291393691359602                            14560608256   \n",
       "1                  1.7056283926121354                            14386823168   \n",
       "2                  2.5198167090408625                            26840170496   \n",
       "3                  1.6697914679164034                            13228613632   \n",
       "4                   3.497572298494714                            26006728704   \n",
       "\n",
       "  value_cluster:cpu_usage_cores:sum value_cluster:memory_usage_bytes:sum  \n",
       "0                1.9614468847026272                          14950580224  \n",
       "1                1.7365714285713953                          14772244480  \n",
       "2                2.7550476190445634                          28030951424  \n",
       "3                1.6988571428571442                          13497782272  \n",
       "4                 3.501142857142862                          26090389504  "
      ]
     },
     "execution_count": 38,
     "metadata": {},
     "output_type": "execute_result"
    }
   ],
   "source": [
    "telemeter_cont_data.head()"
   ]
  },
  {
   "cell_type": "markdown",
   "id": "59173a72",
   "metadata": {
    "ExecuteTime": {
     "end_time": "2021-07-27T02:42:03.003607Z",
     "start_time": "2021-07-27T02:42:03.001216Z"
    }
   },
   "source": [
    "Now, saving the merged dataset in DH-PLAYPEN bucket."
   ]
  },
  {
   "cell_type": "code",
   "execution_count": 39,
   "id": "6d1161f9",
   "metadata": {
    "ExecuteTime": {
     "end_time": "2021-07-27T02:57:27.425852Z",
     "start_time": "2021-07-27T02:57:27.393250Z"
    }
   },
   "outputs": [],
   "source": [
    "# Uploading the mapping dataset in the DH-PLAYPEN bucket\n",
    "parquet_cont_buffer = io.BytesIO()\n",
    "telemeter_cont_data.to_parquet(parquet_cont_buffer)\n",
    "s3_obj = s3.Object(\n",
    "    s3_bucket, \"ccx/fingerprinting/containers/telemeter_cont_data.parquet\"\n",
    ")\n",
    "status = s3_obj.put(Body=parquet_cont_buffer.getvalue())"
   ]
  },
  {
   "cell_type": "code",
   "execution_count": 40,
   "id": "2e5279af",
   "metadata": {
    "ExecuteTime": {
     "end_time": "2021-07-27T02:57:27.478375Z",
     "start_time": "2021-07-27T02:57:27.426724Z"
    }
   },
   "outputs": [
    {
     "name": "stdout",
     "output_type": "stream",
     "text": [
      "Total number of cluster_id in original image layer dataset : 2927\n",
      "Number of cluster_id for the extracted dataset : 2698\n",
      "Number of timestamps : 2606\n"
     ]
    }
   ],
   "source": [
    "print(\n",
    "    \"Total number of cluster_id in original image layer dataset :\",\n",
    "    containers_df.cluster_id.nunique(),\n",
    ")\n",
    "print(\n",
    "    \"Number of cluster_id for the extracted dataset :\",\n",
    "    telemeter_cont_data._id.nunique(),\n",
    ")\n",
    "print(\"Number of timestamps :\", telemeter_cont_data.timestamp.nunique())"
   ]
  },
  {
   "cell_type": "markdown",
   "id": "79da3410",
   "metadata": {
    "ExecuteTime": {
     "end_time": "2021-07-22T18:04:40.938627Z",
     "start_time": "2021-07-22T18:04:40.936097Z"
    }
   },
   "source": [
    "Hence, we observe that we have atleast one metric information for 2698 cluster_ids, i.e, ~92.1% of the total, from the image layers dataset."
   ]
  },
  {
   "cell_type": "markdown",
   "id": "bef01302",
   "metadata": {},
   "source": [
    "# Conclusion"
   ]
  },
  {
   "cell_type": "markdown",
   "id": "06f7b233",
   "metadata": {},
   "source": [
    "These information are now integrated with the workload dataset. The next step is to perform an EDA and then apply clustering techniques to the final integrated dataset. "
   ]
  }
 ],
 "metadata": {
  "finalized": {
   "timestamp": 1626818612957,
   "trusted": true
  },
  "kernelspec": {
   "display_name": "Python 3",
   "language": "python",
   "name": "python3"
  },
  "language_info": {
   "codemirror_mode": {
    "name": "ipython",
    "version": 3
   },
   "file_extension": ".py",
   "mimetype": "text/x-python",
   "name": "python",
   "nbconvert_exporter": "python",
   "pygments_lexer": "ipython3",
   "version": "3.8.3"
  },
  "toc": {
   "base_numbering": 1,
   "nav_menu": {},
   "number_sections": true,
   "sideBar": true,
   "skip_h1_title": false,
   "title_cell": "Table of Contents",
   "title_sidebar": "Contents",
   "toc_cell": false,
   "toc_position": {},
   "toc_section_display": true,
   "toc_window_display": false
  }
 },
 "nbformat": 4,
 "nbformat_minor": 5
}
